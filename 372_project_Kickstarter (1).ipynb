{
 "cells": [
  {
   "cell_type": "code",
   "execution_count": 1,
   "metadata": {
    "colab": {
     "base_uri": "https://localhost:8080/",
     "height": 932
    },
    "id": "dIeyYAE4nj-a",
    "outputId": "cdbdade3-6634-484f-cc97-ace436db752e"
   },
   "outputs": [
    {
     "data": {
      "text/html": [
       "<div>\n",
       "<style scoped>\n",
       "    .dataframe tbody tr th:only-of-type {\n",
       "        vertical-align: middle;\n",
       "    }\n",
       "\n",
       "    .dataframe tbody tr th {\n",
       "        vertical-align: top;\n",
       "    }\n",
       "\n",
       "    .dataframe thead th {\n",
       "        text-align: right;\n",
       "    }\n",
       "</style>\n",
       "<table border=\"1\" class=\"dataframe\">\n",
       "  <thead>\n",
       "    <tr style=\"text-align: right;\">\n",
       "      <th></th>\n",
       "      <th>ID</th>\n",
       "      <th>name</th>\n",
       "      <th>category</th>\n",
       "      <th>main_category</th>\n",
       "      <th>currency</th>\n",
       "      <th>deadline</th>\n",
       "      <th>goal</th>\n",
       "      <th>launched</th>\n",
       "      <th>pledged</th>\n",
       "      <th>state</th>\n",
       "      <th>backers</th>\n",
       "      <th>country</th>\n",
       "      <th>usd pledged</th>\n",
       "      <th>usd_pledged_real</th>\n",
       "      <th>usd_goal_real</th>\n",
       "    </tr>\n",
       "  </thead>\n",
       "  <tbody>\n",
       "    <tr>\n",
       "      <th>0</th>\n",
       "      <td>1000002330</td>\n",
       "      <td>The Songs of Adelaide &amp; Abullah</td>\n",
       "      <td>Poetry</td>\n",
       "      <td>Publishing</td>\n",
       "      <td>GBP</td>\n",
       "      <td>2015-10-09</td>\n",
       "      <td>1000.0</td>\n",
       "      <td>2015-08-11 12:12:28</td>\n",
       "      <td>0.0</td>\n",
       "      <td>failed</td>\n",
       "      <td>0</td>\n",
       "      <td>GB</td>\n",
       "      <td>0.0</td>\n",
       "      <td>0.0</td>\n",
       "      <td>1533.95</td>\n",
       "    </tr>\n",
       "    <tr>\n",
       "      <th>1</th>\n",
       "      <td>1000003930</td>\n",
       "      <td>Greeting From Earth: ZGAC Arts Capsule For ET</td>\n",
       "      <td>Narrative Film</td>\n",
       "      <td>Film &amp; Video</td>\n",
       "      <td>USD</td>\n",
       "      <td>2017-11-01</td>\n",
       "      <td>30000.0</td>\n",
       "      <td>2017-09-02 04:43:57</td>\n",
       "      <td>2421.0</td>\n",
       "      <td>failed</td>\n",
       "      <td>15</td>\n",
       "      <td>US</td>\n",
       "      <td>100.0</td>\n",
       "      <td>2421.0</td>\n",
       "      <td>30000.00</td>\n",
       "    </tr>\n",
       "    <tr>\n",
       "      <th>2</th>\n",
       "      <td>1000004038</td>\n",
       "      <td>Where is Hank?</td>\n",
       "      <td>Narrative Film</td>\n",
       "      <td>Film &amp; Video</td>\n",
       "      <td>USD</td>\n",
       "      <td>2013-02-26</td>\n",
       "      <td>45000.0</td>\n",
       "      <td>2013-01-12 00:20:50</td>\n",
       "      <td>220.0</td>\n",
       "      <td>failed</td>\n",
       "      <td>3</td>\n",
       "      <td>US</td>\n",
       "      <td>220.0</td>\n",
       "      <td>220.0</td>\n",
       "      <td>45000.00</td>\n",
       "    </tr>\n",
       "    <tr>\n",
       "      <th>3</th>\n",
       "      <td>1000007540</td>\n",
       "      <td>ToshiCapital Rekordz Needs Help to Complete Album</td>\n",
       "      <td>Music</td>\n",
       "      <td>Music</td>\n",
       "      <td>USD</td>\n",
       "      <td>2012-04-16</td>\n",
       "      <td>5000.0</td>\n",
       "      <td>2012-03-17 03:24:11</td>\n",
       "      <td>1.0</td>\n",
       "      <td>failed</td>\n",
       "      <td>1</td>\n",
       "      <td>US</td>\n",
       "      <td>1.0</td>\n",
       "      <td>1.0</td>\n",
       "      <td>5000.00</td>\n",
       "    </tr>\n",
       "    <tr>\n",
       "      <th>4</th>\n",
       "      <td>1000011046</td>\n",
       "      <td>Community Film Project: The Art of Neighborhoo...</td>\n",
       "      <td>Film &amp; Video</td>\n",
       "      <td>Film &amp; Video</td>\n",
       "      <td>USD</td>\n",
       "      <td>2015-08-29</td>\n",
       "      <td>19500.0</td>\n",
       "      <td>2015-07-04 08:35:03</td>\n",
       "      <td>1283.0</td>\n",
       "      <td>canceled</td>\n",
       "      <td>14</td>\n",
       "      <td>US</td>\n",
       "      <td>1283.0</td>\n",
       "      <td>1283.0</td>\n",
       "      <td>19500.00</td>\n",
       "    </tr>\n",
       "    <tr>\n",
       "      <th>...</th>\n",
       "      <td>...</td>\n",
       "      <td>...</td>\n",
       "      <td>...</td>\n",
       "      <td>...</td>\n",
       "      <td>...</td>\n",
       "      <td>...</td>\n",
       "      <td>...</td>\n",
       "      <td>...</td>\n",
       "      <td>...</td>\n",
       "      <td>...</td>\n",
       "      <td>...</td>\n",
       "      <td>...</td>\n",
       "      <td>...</td>\n",
       "      <td>...</td>\n",
       "      <td>...</td>\n",
       "    </tr>\n",
       "    <tr>\n",
       "      <th>378656</th>\n",
       "      <td>999976400</td>\n",
       "      <td>ChknTruk Nationwide Charity Drive 2014 (Canceled)</td>\n",
       "      <td>Documentary</td>\n",
       "      <td>Film &amp; Video</td>\n",
       "      <td>USD</td>\n",
       "      <td>2014-10-17</td>\n",
       "      <td>50000.0</td>\n",
       "      <td>2014-09-17 02:35:30</td>\n",
       "      <td>25.0</td>\n",
       "      <td>canceled</td>\n",
       "      <td>1</td>\n",
       "      <td>US</td>\n",
       "      <td>25.0</td>\n",
       "      <td>25.0</td>\n",
       "      <td>50000.00</td>\n",
       "    </tr>\n",
       "    <tr>\n",
       "      <th>378657</th>\n",
       "      <td>999977640</td>\n",
       "      <td>The Tribe</td>\n",
       "      <td>Narrative Film</td>\n",
       "      <td>Film &amp; Video</td>\n",
       "      <td>USD</td>\n",
       "      <td>2011-07-19</td>\n",
       "      <td>1500.0</td>\n",
       "      <td>2011-06-22 03:35:14</td>\n",
       "      <td>155.0</td>\n",
       "      <td>failed</td>\n",
       "      <td>5</td>\n",
       "      <td>US</td>\n",
       "      <td>155.0</td>\n",
       "      <td>155.0</td>\n",
       "      <td>1500.00</td>\n",
       "    </tr>\n",
       "    <tr>\n",
       "      <th>378658</th>\n",
       "      <td>999986353</td>\n",
       "      <td>Walls of Remedy- New lesbian Romantic Comedy f...</td>\n",
       "      <td>Narrative Film</td>\n",
       "      <td>Film &amp; Video</td>\n",
       "      <td>USD</td>\n",
       "      <td>2010-08-16</td>\n",
       "      <td>15000.0</td>\n",
       "      <td>2010-07-01 19:40:30</td>\n",
       "      <td>20.0</td>\n",
       "      <td>failed</td>\n",
       "      <td>1</td>\n",
       "      <td>US</td>\n",
       "      <td>20.0</td>\n",
       "      <td>20.0</td>\n",
       "      <td>15000.00</td>\n",
       "    </tr>\n",
       "    <tr>\n",
       "      <th>378659</th>\n",
       "      <td>999987933</td>\n",
       "      <td>BioDefense Education Kit</td>\n",
       "      <td>Technology</td>\n",
       "      <td>Technology</td>\n",
       "      <td>USD</td>\n",
       "      <td>2016-02-13</td>\n",
       "      <td>15000.0</td>\n",
       "      <td>2016-01-13 18:13:53</td>\n",
       "      <td>200.0</td>\n",
       "      <td>failed</td>\n",
       "      <td>6</td>\n",
       "      <td>US</td>\n",
       "      <td>200.0</td>\n",
       "      <td>200.0</td>\n",
       "      <td>15000.00</td>\n",
       "    </tr>\n",
       "    <tr>\n",
       "      <th>378660</th>\n",
       "      <td>999988282</td>\n",
       "      <td>Nou Renmen Ayiti!  We Love Haiti!</td>\n",
       "      <td>Performance Art</td>\n",
       "      <td>Art</td>\n",
       "      <td>USD</td>\n",
       "      <td>2011-08-16</td>\n",
       "      <td>2000.0</td>\n",
       "      <td>2011-07-19 09:07:47</td>\n",
       "      <td>524.0</td>\n",
       "      <td>failed</td>\n",
       "      <td>17</td>\n",
       "      <td>US</td>\n",
       "      <td>524.0</td>\n",
       "      <td>524.0</td>\n",
       "      <td>2000.00</td>\n",
       "    </tr>\n",
       "  </tbody>\n",
       "</table>\n",
       "<p>378661 rows × 15 columns</p>\n",
       "</div>"
      ],
      "text/plain": [
       "                ID  ... usd_goal_real\n",
       "0       1000002330  ...       1533.95\n",
       "1       1000003930  ...      30000.00\n",
       "2       1000004038  ...      45000.00\n",
       "3       1000007540  ...       5000.00\n",
       "4       1000011046  ...      19500.00\n",
       "...            ...  ...           ...\n",
       "378656   999976400  ...      50000.00\n",
       "378657   999977640  ...       1500.00\n",
       "378658   999986353  ...      15000.00\n",
       "378659   999987933  ...      15000.00\n",
       "378660   999988282  ...       2000.00\n",
       "\n",
       "[378661 rows x 15 columns]"
      ]
     },
     "execution_count": 1,
     "metadata": {
      "tags": []
     },
     "output_type": "execute_result"
    }
   ],
   "source": [
    "# Assume the one CSV file containing the training&testing datasets is stored in the current working directory \n",
    "import pandas as pd\n",
    "from sklearn.model_selection import train_test_split\n",
    "\n",
    "# we can do data pre-processing with pandas or build it into the pieline for hyper-parameter tuning \n",
    "df = pd.read_csv('ks-projects-201801.csv', engine='python') # load the dataset\n",
    "df\n",
    "\n",
    "# some explanation for the features\n",
    "# 'pledged' is the pledged amount in the project currency (GPB for a project created in GBP for example)\n",
    "# 'usd_pledged' is the USD conversion made by KickStarter for the previous pledged value\n",
    "# 'usd_pledged_real' is the USD conversion made by fixer.io api (since KickStarter conversion is verified to be inaccurate by the dataset creator and the other data scientists)\n"
   ]
  },
  {
   "cell_type": "markdown",
   "metadata": {
    "id": "H-kQP5oCnj-t"
   },
   "source": [
    "# Some explanation for the Features in the Dataset\n",
    "The dataset has 15 features. Features like name, currency, deadline, launched date and country are self-explanatory, while the other features may need some more explanations as follows:\n",
    "\n",
    "Main_Category: There are 15 main categories for the project. These main categories broadly classify projects based on topic and genre they belong to.\n",
    "\n",
    "Category: Main Categories are further divided into categories to give more general idea of the project. For example, Main Category “Technology” has 15 categories like Gadgets, Web, Apps, Software etc. There are 159 total categories.\n",
    "\n",
    "Goal: This is the goal amount which the company need to raise to start its project. The goal amount is important variable for company as if it is too high, the project may fail to raise that amount of money and be unsuccessful. If it is too low, then it may reach its goal soon and backers may not be interested to pledge more.\n",
    "\n",
    "Pledged: This is amount raised by the company through its backers. On Kickstarter, if total amount pledged is lower than goal, then the project is unsuccessful and the start-up company doesn’t receive any fund. If pledged amount is more than the goal, the company is considered successful. The variable “usd pledged” is amount of money raised in US dollars.\n",
    "\n",
    "Number of Backers: These are number of people who have supported the project by pledging some amount."
   ]
  },
  {
   "cell_type": "markdown",
   "metadata": {
    "id": "3aHMtCRwnj-x"
   },
   "source": [
    "#  Initial Dataset Exploration"
   ]
  },
  {
   "cell_type": "code",
   "execution_count": 2,
   "metadata": {
    "colab": {
     "base_uri": "https://localhost:8080/"
    },
    "id": "uMLm1oDenj-y",
    "outputId": "9e08f5b3-5a9a-4d90-b06e-a40621d82a25"
   },
   "outputs": [
    {
     "name": "stdout",
     "output_type": "stream",
     "text": [
      "Number of Main_Category:  15\n",
      "Film & Video    63585\n",
      "Music           51918\n",
      "Publishing      39874\n",
      "Games           35231\n",
      "Technology      32569\n",
      "Design          30070\n",
      "Art             28153\n",
      "Food            24602\n",
      "Fashion         22816\n",
      "Theater         10913\n",
      "Comics          10819\n",
      "Photography     10779\n",
      "Crafts           8809\n",
      "Journalism       4755\n",
      "Dance            3768\n",
      "Name: main_category, dtype: int64\n"
     ]
    }
   ],
   "source": [
    "# Main_Category: There are 15 main categories for the project. These main categories broadly classify projects based on topic and genre they belong to.\n",
    "print('Number of Main_Category: ', len(df.main_category.unique()))\n",
    "print(df.main_category.value_counts())\n"
   ]
  },
  {
   "cell_type": "code",
   "execution_count": 3,
   "metadata": {
    "colab": {
     "base_uri": "https://localhost:8080/"
    },
    "id": "OeR0hia3nj-6",
    "outputId": "2726b453-9444-47e9-f8c7-0085faf3aeb4"
   },
   "outputs": [
    {
     "name": "stdout",
     "output_type": "stream",
     "text": [
      "Number of Category:  159\n",
      "Product Design     22314\n",
      "Documentary        16139\n",
      "Music              15727\n",
      "Tabletop Games     14180\n",
      "Shorts             12357\n",
      "                   ...  \n",
      "Residencies           69\n",
      "Letterpress           49\n",
      "Chiptune              35\n",
      "Literary Spaces       27\n",
      "Taxidermy             13\n",
      "Name: category, Length: 159, dtype: int64\n"
     ]
    }
   ],
   "source": [
    "# Category: Main Categories are further divided into categories to give more general idea of the project. For example, Main Category “Technology” has 15 categories like Gadgets, Web, Apps, Software etc. There are 159 total categories.\n",
    "print('Number of Category: ', len(df.category.unique()))\n",
    "print(df.category.value_counts())\n"
   ]
  },
  {
   "cell_type": "code",
   "execution_count": 4,
   "metadata": {
    "colab": {
     "base_uri": "https://localhost:8080/",
     "height": 297
    },
    "id": "UR8Lkmkdnj-7",
    "outputId": "7c3ee0be-3765-4e51-f2bd-161417ce4de1"
   },
   "outputs": [
    {
     "data": {
      "text/html": [
       "<div>\n",
       "<style scoped>\n",
       "    .dataframe tbody tr th:only-of-type {\n",
       "        vertical-align: middle;\n",
       "    }\n",
       "\n",
       "    .dataframe tbody tr th {\n",
       "        vertical-align: top;\n",
       "    }\n",
       "\n",
       "    .dataframe thead th {\n",
       "        text-align: right;\n",
       "    }\n",
       "</style>\n",
       "<table border=\"1\" class=\"dataframe\">\n",
       "  <thead>\n",
       "    <tr style=\"text-align: right;\">\n",
       "      <th></th>\n",
       "      <th>ID</th>\n",
       "      <th>goal</th>\n",
       "      <th>pledged</th>\n",
       "      <th>backers</th>\n",
       "      <th>usd pledged</th>\n",
       "      <th>usd_pledged_real</th>\n",
       "      <th>usd_goal_real</th>\n",
       "    </tr>\n",
       "  </thead>\n",
       "  <tbody>\n",
       "    <tr>\n",
       "      <th>count</th>\n",
       "      <td>3.786610e+05</td>\n",
       "      <td>3.786610e+05</td>\n",
       "      <td>3.786610e+05</td>\n",
       "      <td>378661.000000</td>\n",
       "      <td>3.748640e+05</td>\n",
       "      <td>3.786610e+05</td>\n",
       "      <td>3.786610e+05</td>\n",
       "    </tr>\n",
       "    <tr>\n",
       "      <th>mean</th>\n",
       "      <td>1.074731e+09</td>\n",
       "      <td>4.908079e+04</td>\n",
       "      <td>9.682979e+03</td>\n",
       "      <td>105.617476</td>\n",
       "      <td>7.036729e+03</td>\n",
       "      <td>9.058924e+03</td>\n",
       "      <td>4.545440e+04</td>\n",
       "    </tr>\n",
       "    <tr>\n",
       "      <th>std</th>\n",
       "      <td>6.190862e+08</td>\n",
       "      <td>1.183391e+06</td>\n",
       "      <td>9.563601e+04</td>\n",
       "      <td>907.185035</td>\n",
       "      <td>7.863975e+04</td>\n",
       "      <td>9.097334e+04</td>\n",
       "      <td>1.152950e+06</td>\n",
       "    </tr>\n",
       "    <tr>\n",
       "      <th>min</th>\n",
       "      <td>5.971000e+03</td>\n",
       "      <td>1.000000e-02</td>\n",
       "      <td>0.000000e+00</td>\n",
       "      <td>0.000000</td>\n",
       "      <td>0.000000e+00</td>\n",
       "      <td>0.000000e+00</td>\n",
       "      <td>1.000000e-02</td>\n",
       "    </tr>\n",
       "    <tr>\n",
       "      <th>25%</th>\n",
       "      <td>5.382635e+08</td>\n",
       "      <td>2.000000e+03</td>\n",
       "      <td>3.000000e+01</td>\n",
       "      <td>2.000000</td>\n",
       "      <td>1.698000e+01</td>\n",
       "      <td>3.100000e+01</td>\n",
       "      <td>2.000000e+03</td>\n",
       "    </tr>\n",
       "    <tr>\n",
       "      <th>50%</th>\n",
       "      <td>1.075276e+09</td>\n",
       "      <td>5.200000e+03</td>\n",
       "      <td>6.200000e+02</td>\n",
       "      <td>12.000000</td>\n",
       "      <td>3.947200e+02</td>\n",
       "      <td>6.243300e+02</td>\n",
       "      <td>5.500000e+03</td>\n",
       "    </tr>\n",
       "    <tr>\n",
       "      <th>75%</th>\n",
       "      <td>1.610149e+09</td>\n",
       "      <td>1.600000e+04</td>\n",
       "      <td>4.076000e+03</td>\n",
       "      <td>56.000000</td>\n",
       "      <td>3.034090e+03</td>\n",
       "      <td>4.050000e+03</td>\n",
       "      <td>1.550000e+04</td>\n",
       "    </tr>\n",
       "    <tr>\n",
       "      <th>max</th>\n",
       "      <td>2.147476e+09</td>\n",
       "      <td>1.000000e+08</td>\n",
       "      <td>2.033899e+07</td>\n",
       "      <td>219382.000000</td>\n",
       "      <td>2.033899e+07</td>\n",
       "      <td>2.033899e+07</td>\n",
       "      <td>1.663614e+08</td>\n",
       "    </tr>\n",
       "  </tbody>\n",
       "</table>\n",
       "</div>"
      ],
      "text/plain": [
       "                 ID          goal  ...  usd_pledged_real  usd_goal_real\n",
       "count  3.786610e+05  3.786610e+05  ...      3.786610e+05   3.786610e+05\n",
       "mean   1.074731e+09  4.908079e+04  ...      9.058924e+03   4.545440e+04\n",
       "std    6.190862e+08  1.183391e+06  ...      9.097334e+04   1.152950e+06\n",
       "min    5.971000e+03  1.000000e-02  ...      0.000000e+00   1.000000e-02\n",
       "25%    5.382635e+08  2.000000e+03  ...      3.100000e+01   2.000000e+03\n",
       "50%    1.075276e+09  5.200000e+03  ...      6.243300e+02   5.500000e+03\n",
       "75%    1.610149e+09  1.600000e+04  ...      4.050000e+03   1.550000e+04\n",
       "max    2.147476e+09  1.000000e+08  ...      2.033899e+07   1.663614e+08\n",
       "\n",
       "[8 rows x 7 columns]"
      ]
     },
     "execution_count": 4,
     "metadata": {
      "tags": []
     },
     "output_type": "execute_result"
    }
   ],
   "source": [
    "df.describe()"
   ]
  },
  {
   "cell_type": "code",
   "execution_count": 5,
   "metadata": {
    "colab": {
     "base_uri": "https://localhost:8080/"
    },
    "id": "_NIqukIinj-8",
    "outputId": "c26f6c3a-cfc7-412b-b5ca-29b0e42cdfc5"
   },
   "outputs": [
    {
     "name": "stdout",
     "output_type": "stream",
     "text": [
      "<class 'pandas.core.frame.DataFrame'>\n",
      "RangeIndex: 378661 entries, 0 to 378660\n",
      "Data columns (total 15 columns):\n",
      " #   Column            Non-Null Count   Dtype  \n",
      "---  ------            --------------   -----  \n",
      " 0   ID                378661 non-null  int64  \n",
      " 1   name              378657 non-null  object \n",
      " 2   category          378661 non-null  object \n",
      " 3   main_category     378661 non-null  object \n",
      " 4   currency          378661 non-null  object \n",
      " 5   deadline          378661 non-null  object \n",
      " 6   goal              378661 non-null  float64\n",
      " 7   launched          378661 non-null  object \n",
      " 8   pledged           378661 non-null  float64\n",
      " 9   state             378661 non-null  object \n",
      " 10  backers           378661 non-null  int64  \n",
      " 11  country           378661 non-null  object \n",
      " 12  usd pledged       374864 non-null  float64\n",
      " 13  usd_pledged_real  378661 non-null  float64\n",
      " 14  usd_goal_real     378661 non-null  float64\n",
      "dtypes: float64(5), int64(2), object(8)\n",
      "memory usage: 43.3+ MB\n"
     ]
    }
   ],
   "source": [
    "df.info()"
   ]
  },
  {
   "cell_type": "code",
   "execution_count": 6,
   "metadata": {
    "colab": {
     "base_uri": "https://localhost:8080/"
    },
    "id": "jJl-wn90nj-9",
    "outputId": "666ed2e6-0675-4153-8eba-1df430708d2f"
   },
   "outputs": [
    {
     "name": "stdout",
     "output_type": "stream",
     "text": [
      "State            %: \n",
      "failed        52.22\n",
      "successful    35.38\n",
      "canceled      10.24\n",
      "undefined      0.94\n",
      "live           0.74\n",
      "suspended      0.49\n",
      "Name: state, dtype: float64\n"
     ]
    }
   ],
   "source": [
    "# Consult: https://www.kaggle.com/kosovanolexandr/kickstarter-lgbmclassifier-0-681\n",
    "percentual_sucess = round(df[\"state\"].value_counts() / len(df[\"state\"]) * 100,2)\n",
    "\n",
    "print(\"State            %: \")\n",
    "print(percentual_sucess)  \n",
    "# so we have 6 possible outcomes for a project crowdfunding on Kickstarter \n",
    "# and we can see that only around 2% of the total projects in Kickstarter are having state 'undefined','live', or 'suspended'\n",
    "# According to our goal (predict whether a potential project crowdfunding on Kickstarter will be successful or not), we are only interested in the projects that have state either being 'successful' or being 'failed'\n"
   ]
  },
  {
   "cell_type": "code",
   "execution_count": 6,
   "metadata": {
    "id": "sagh2BbKnj-_"
   },
   "outputs": [],
   "source": []
  },
  {
   "cell_type": "markdown",
   "metadata": {
    "id": "1u_qFWlcnj-_"
   },
   "source": [
    "# Data Visualization"
   ]
  },
  {
   "cell_type": "code",
   "execution_count": 7,
   "metadata": {
    "colab": {
     "base_uri": "https://localhost:8080/",
     "height": 729
    },
    "id": "57_OLjoPnj_A",
    "outputId": "3c21dd67-532c-4cb8-fb10-ea7aa18815b3"
   },
   "outputs": [
    {
     "data": {
      "image/png": "[encoded data removed]",
      "text/plain": [
       "<Figure size 600x400 with 1 Axes>"
      ]
     },
     "metadata": {
      "tags": []
     },
     "output_type": "display_data"
    },
    {
     "data": {
      "image/png": "[encoded data removed]",
      "text/plain": [
       "<Figure size 600x400 with 1 Axes>"
      ]
     },
     "metadata": {
      "tags": []
     },
     "output_type": "display_data"
    }
   ],
   "source": [
    "# Consult: https://www.kaggle.com/majickdave/kickstarter-success-classifier-0-685\n",
    "import matplotlib.pyplot as plt\n",
    "import seaborn as sns\n",
    "\n",
    "#df['state'].hist()\n",
    "sns.set_style('darkgrid')\n",
    "outcome = df.state.value_counts()\n",
    "\n",
    "x = outcome.values\n",
    "y = outcome.index\n",
    "\n",
    "fig = plt.figure(dpi=100)\n",
    "ax = fig.add_subplot(111)\n",
    "ax = sns.barplot(y=y, x=x, orient='h', palette=\"flare\", alpha=0.8)\n",
    "\n",
    "plt.title('Kickstarter Project Crowdfunding Outcomes')\n",
    "plt.show()\n",
    "\n",
    "# since we are only interested in the projects that have state either being 'successful' or being 'failed'\n",
    "# we can consider 'successful' and 'failed' to be the 2 class labels for the problem (target attribute)\n",
    "# and we notice that the instances of the 2 class labels are moderately imbalanced \n",
    "# (so ‘accuracy’ might not be regarded as the optimal evaluation metric)\n",
    "\n",
    "plt.style.use('seaborn-pastel')\n",
    "\n",
    "fig, ax = plt.subplots(1, 1, dpi=100)\n",
    "explode = [0,0,.1,.2, .4,.6]\n",
    "df.state.value_counts().head(6).plot.pie(autopct='%0.2f%%',\n",
    "                                        explode=explode)\n",
    "\n",
    "plt.title('Breakdown of Kickstarter Project Status')\n",
    "plt.ylabel('')\n",
    "plt.show()"
   ]
  },
  {
   "cell_type": "code",
   "execution_count": 8,
   "metadata": {
    "colab": {
     "base_uri": "https://localhost:8080/",
     "height": 385
    },
    "id": "TRanHPMOnj_C",
    "outputId": "f9309a44-c092-47b2-a0ed-862f1fac86d9"
   },
   "outputs": [
    {
     "data": {
      "image/png": "[encoded data removed]",
      "text/plain": [
       "<Figure size 600x400 with 1 Axes>"
      ]
     },
     "metadata": {
      "tags": []
     },
     "output_type": "display_data"
    }
   ],
   "source": [
    "# Consult: https://www.kaggle.com/majickdave/kickstarter-success-classifier-0-685\n",
    "import seaborn as sns\n",
    "\n",
    "sns.set_style('darkgrid')\n",
    "mains = df.main_category.value_counts().head(15)\n",
    "\n",
    "x = mains.values\n",
    "y = mains.index\n",
    "\n",
    "fig = plt.figure(dpi=100)\n",
    "ax = fig.add_subplot(111)\n",
    "ax = sns.barplot(y=y, x=x, orient='h', palette=\"cool\", alpha=0.8)\n",
    "\n",
    "plt.title('Kickstarter Top 15 Main Category Count')\n",
    "plt.show()\n",
    "# see how many projects each 'main_category' includes\n"
   ]
  },
  {
   "cell_type": "code",
   "execution_count": 9,
   "metadata": {
    "colab": {
     "base_uri": "https://localhost:8080/",
     "height": 385
    },
    "id": "RUg3Evyjnj_E",
    "outputId": "e311cc93-ceb9-4e86-a2f1-43c33b2d921f"
   },
   "outputs": [
    {
     "data": {
      "image/png": "[encoded data removed]",
      "text/plain": [
       "<Figure size 600x400 with 1 Axes>"
      ]
     },
     "metadata": {
      "tags": []
     },
     "output_type": "display_data"
    }
   ],
   "source": [
    "# see how many projects each 'category' includes\n",
    "cats = df.category.value_counts().head(15)\n",
    "\n",
    "x = cats.values\n",
    "y = cats.index\n",
    "\n",
    "fig = plt.figure(dpi=100)\n",
    "ax = fig.add_subplot(111)\n",
    "ax = sns.barplot(y=y, x=x, orient='h', palette=\"winter\", alpha=0.8)\n",
    "\n",
    "plt.title('Kickstarter Top 15 Category Count')\n",
    "plt.show()\n",
    "\n",
    "# Note: Many of the top categories overlap with the top main_categories such as Music, Film, and Design"
   ]
  },
  {
   "cell_type": "code",
   "execution_count": 10,
   "metadata": {
    "colab": {
     "base_uri": "https://localhost:8080/",
     "height": 1000
    },
    "id": "rao0q7Pznj_K",
    "outputId": "dea8ff51-3492-47d5-d4ee-48928fc93901"
   },
   "outputs": [
    {
     "name": "stdout",
     "output_type": "stream",
     "text": [
      "US      292627\n",
      "GB       33672\n",
      "CA       14756\n",
      "AU        7839\n",
      "DE        4171\n",
      "N,0\"      3797\n",
      "FR        2939\n",
      "IT        2878\n",
      "NL        2868\n",
      "ES        2276\n",
      "SE        1757\n",
      "MX        1752\n",
      "NZ        1447\n",
      "DK        1113\n",
      "IE         811\n",
      "Name: country, dtype: int64\n"
     ]
    },
    {
     "data": {
      "image/png": "[encoded data removed]",
      "text/plain": [
       "<Figure size 600x400 with 1 Axes>"
      ]
     },
     "metadata": {
      "tags": []
     },
     "output_type": "display_data"
    },
    {
     "data": {
      "image/png": "[encoded data removed]",
      "text/plain": [
       "<Figure size 600x400 with 1 Axes>"
      ]
     },
     "metadata": {
      "tags": []
     },
     "output_type": "display_data"
    }
   ],
   "source": [
    "# see how many projects each 'country' includes\n",
    "country = df.country.value_counts().head(15)\n",
    "print(country)\n",
    "x = country.values\n",
    "y = country.index\n",
    "\n",
    "fig = plt.figure(dpi=100)\n",
    "ax = fig.add_subplot(111)\n",
    "ax = sns.barplot(y=y, x=x, orient='h', palette=\"summer\", alpha=0.8)\n",
    "\n",
    "plt.title('Kickstarter Top 15 Country Count')\n",
    "plt.show()\n",
    "\n",
    "# As we can see below, the projects from US dominate the KickStarters crowdfunding website. Even if we aggregate all the projects from countries other than US, \n",
    "# the number of projects from US is still larger than the number of projects from the aggregation\n",
    "# In addition, the English speaking countries like US, Great Britain, Canada, and Australia are forming the top 4 of the project origins in KickStarter,\n",
    "# which implies that this feature may not be very helpful for training the model to predict if a potential crowdfunding post will be successful or not,\n",
    "# because most of the samples (more than 90%) are from the English speaking countries that tend to share similar cultures, meaning that this feature cannot provide \n",
    "# abundant information for the model's learning\n",
    "\n",
    "plt.style.use('seaborn-pastel')\n",
    "\n",
    "fig, ax = plt.subplots(1, 1, dpi=100)\n",
    "explode = [0,0,.1,.2, .4,]\n",
    "df.country.value_counts().head(5).plot.pie(autopct='%0.2f%%',\n",
    "                                        explode=explode)\n",
    "\n",
    "plt.title('Breakdown of Top 5 Kickstarter Project Origin')\n",
    "plt.ylabel('')\n",
    "plt.show()"
   ]
  },
  {
   "cell_type": "code",
   "execution_count": 11,
   "metadata": {
    "colab": {
     "base_uri": "https://localhost:8080/",
     "height": 984
    },
    "id": "qjAhMqLvnj_M",
    "outputId": "33089eff-36cf-45d5-ae6d-fa790f5f3357"
   },
   "outputs": [
    {
     "name": "stdout",
     "output_type": "stream",
     "text": [
      "USD    295365\n",
      "GBP     34132\n",
      "EUR     17405\n",
      "CAD     14962\n",
      "AUD      7950\n",
      "SEK      1788\n",
      "MXN      1752\n",
      "NZD      1475\n",
      "DKK      1129\n",
      "CHF       768\n",
      "NOK       722\n",
      "HKD       618\n",
      "SGD       555\n",
      "JPY        40\n",
      "Name: currency, dtype: int64\n"
     ]
    },
    {
     "data": {
      "image/png": "[encoded data removed]",
      "text/plain": [
       "<Figure size 600x400 with 1 Axes>"
      ]
     },
     "metadata": {
      "tags": []
     },
     "output_type": "display_data"
    },
    {
     "data": {
      "image/png": "[encoded data removed]",
      "text/plain": [
       "<Figure size 600x400 with 1 Axes>"
      ]
     },
     "metadata": {
      "tags": []
     },
     "output_type": "display_data"
    }
   ],
   "source": [
    "# see how many projects each 'currency' includes\n",
    "curr = df.currency.value_counts().head(15)\n",
    "print(curr)\n",
    "x = curr.values\n",
    "y = curr.index\n",
    "\n",
    "fig = plt.figure(dpi=100)\n",
    "ax = fig.add_subplot(111)\n",
    "ax = sns.barplot(y=y, x=x, orient='h', palette=\"summer\", alpha=0.8)\n",
    "\n",
    "plt.title('Kickstarter Top 15 Currency Count')\n",
    "plt.show()\n",
    "\n",
    "# As we can see below, the 'currency' feature should be highly correlated with the 'country' feature, because we can observe nearly identical numeric patterns/trends within the 2 features \n",
    "# For example, the projects requiring US dollar as funding currency still dominate the KickStarters crowdfunding website. Even if we aggregate all the projects requiring funding currencies other than US dollar, \n",
    "# the number of projects requiring US dollar as funding currency is still larger than the number of projects from the aggregation\n",
    "# In addition, the currencies circulated in English speaking countries like US dollar (USD) in US, Great Britain Pound (GBP) in UK, Canadian Dollar (CAD) in Canada, and Australia Dollar (AUD) in Australia are in the top 5 of the project required funding currency in KickStarter.\n",
    "# The only difference between this observed pattern with the pattern observed in 'country' feature is that the currencies circulated in European Union (EUR) is ranked the third in the top 5 of the project required funding currency. A possible explanantion for this observation is that \n",
    "# for European countries like Germany (DE), France(FR), and Netherlands(NL), they rank as the fifth, sixth, and seventh respectively in the top 15 of the project origins in KickStarter (as we can see from the graph 'Kickstarter Top 15 Country Count'),\n",
    "# and those European countries all consider EUR as the sole currency in their countries to be used, so the number of projects requiring EUR as funding currency should be the summation of the projects with origin in European countries such as Germany (DE), France(FR), and Netherlands(NL), \n",
    "# thus it is reasonable to see that EUR is ranked the third in the top 5 of the project required funding currency as Euro can be used in multiple countries (while currencies like USD and GBP can only be used in their 'home countries').\n",
    "\n",
    "# However, this 'currency' feature may still not be very helpful for training the model to predict if a potential crowdfunding post will be successful or not,\n",
    "# because most of the samples (more than 90%) are still from the English speaking countries that tend to share similar cultures, meaning that this feature cannot provide \n",
    "# abundant information for the model's learning\n",
    "\n",
    "plt.style.use('seaborn-pastel')\n",
    "\n",
    "fig, ax = plt.subplots(1, 1, dpi=100)\n",
    "explode = [0,0,.1,.2, .4,]\n",
    "df.currency.value_counts().head(5).plot.pie(autopct='%0.2f%%',\n",
    "                                        explode=explode)\n",
    "\n",
    "plt.title('Breakdown of Top 5 Kickstarter Project Fund Currency')\n",
    "plt.ylabel('')\n",
    "plt.show()"
   ]
  },
  {
   "cell_type": "code",
   "execution_count": 11,
   "metadata": {
    "id": "Y_1gECQunj_O"
   },
   "outputs": [],
   "source": []
  },
  {
   "cell_type": "markdown",
   "metadata": {
    "id": "i3OtRYuNnj_P"
   },
   "source": [
    "# Pre-processing"
   ]
  },
  {
   "cell_type": "code",
   "execution_count": 12,
   "metadata": {
    "colab": {
     "base_uri": "https://localhost:8080/",
     "height": 949
    },
    "id": "VGMRYpqmnj_Q",
    "outputId": "270c0ac9-4de2-4ad5-bc46-53c52ddc2a13"
   },
   "outputs": [
    {
     "data": {
      "text/html": [
       "<div>\n",
       "<style scoped>\n",
       "    .dataframe tbody tr th:only-of-type {\n",
       "        vertical-align: middle;\n",
       "    }\n",
       "\n",
       "    .dataframe tbody tr th {\n",
       "        vertical-align: top;\n",
       "    }\n",
       "\n",
       "    .dataframe thead th {\n",
       "        text-align: right;\n",
       "    }\n",
       "</style>\n",
       "<table border=\"1\" class=\"dataframe\">\n",
       "  <thead>\n",
       "    <tr style=\"text-align: right;\">\n",
       "      <th></th>\n",
       "      <th>ID</th>\n",
       "      <th>name</th>\n",
       "      <th>category</th>\n",
       "      <th>main_category</th>\n",
       "      <th>currency</th>\n",
       "      <th>deadline</th>\n",
       "      <th>goal</th>\n",
       "      <th>launched</th>\n",
       "      <th>pledged</th>\n",
       "      <th>state</th>\n",
       "      <th>backers</th>\n",
       "      <th>country</th>\n",
       "      <th>usd pledged</th>\n",
       "      <th>usd_pledged_real</th>\n",
       "      <th>usd_goal_real</th>\n",
       "    </tr>\n",
       "  </thead>\n",
       "  <tbody>\n",
       "    <tr>\n",
       "      <th>0</th>\n",
       "      <td>1000002330</td>\n",
       "      <td>The Songs of Adelaide &amp; Abullah</td>\n",
       "      <td>Poetry</td>\n",
       "      <td>Publishing</td>\n",
       "      <td>GBP</td>\n",
       "      <td>2015-10-09</td>\n",
       "      <td>1000.0</td>\n",
       "      <td>2015-08-11 12:12:28</td>\n",
       "      <td>0.0</td>\n",
       "      <td>failed</td>\n",
       "      <td>0</td>\n",
       "      <td>GB</td>\n",
       "      <td>0.0</td>\n",
       "      <td>0.0</td>\n",
       "      <td>1533.95</td>\n",
       "    </tr>\n",
       "    <tr>\n",
       "      <th>1</th>\n",
       "      <td>1000003930</td>\n",
       "      <td>Greeting From Earth: ZGAC Arts Capsule For ET</td>\n",
       "      <td>Narrative Film</td>\n",
       "      <td>Film &amp; Video</td>\n",
       "      <td>USD</td>\n",
       "      <td>2017-11-01</td>\n",
       "      <td>30000.0</td>\n",
       "      <td>2017-09-02 04:43:57</td>\n",
       "      <td>2421.0</td>\n",
       "      <td>failed</td>\n",
       "      <td>15</td>\n",
       "      <td>US</td>\n",
       "      <td>100.0</td>\n",
       "      <td>2421.0</td>\n",
       "      <td>30000.00</td>\n",
       "    </tr>\n",
       "    <tr>\n",
       "      <th>2</th>\n",
       "      <td>1000004038</td>\n",
       "      <td>Where is Hank?</td>\n",
       "      <td>Narrative Film</td>\n",
       "      <td>Film &amp; Video</td>\n",
       "      <td>USD</td>\n",
       "      <td>2013-02-26</td>\n",
       "      <td>45000.0</td>\n",
       "      <td>2013-01-12 00:20:50</td>\n",
       "      <td>220.0</td>\n",
       "      <td>failed</td>\n",
       "      <td>3</td>\n",
       "      <td>US</td>\n",
       "      <td>220.0</td>\n",
       "      <td>220.0</td>\n",
       "      <td>45000.00</td>\n",
       "    </tr>\n",
       "    <tr>\n",
       "      <th>3</th>\n",
       "      <td>1000007540</td>\n",
       "      <td>ToshiCapital Rekordz Needs Help to Complete Album</td>\n",
       "      <td>Music</td>\n",
       "      <td>Music</td>\n",
       "      <td>USD</td>\n",
       "      <td>2012-04-16</td>\n",
       "      <td>5000.0</td>\n",
       "      <td>2012-03-17 03:24:11</td>\n",
       "      <td>1.0</td>\n",
       "      <td>failed</td>\n",
       "      <td>1</td>\n",
       "      <td>US</td>\n",
       "      <td>1.0</td>\n",
       "      <td>1.0</td>\n",
       "      <td>5000.00</td>\n",
       "    </tr>\n",
       "    <tr>\n",
       "      <th>5</th>\n",
       "      <td>1000014025</td>\n",
       "      <td>Monarch Espresso Bar</td>\n",
       "      <td>Restaurants</td>\n",
       "      <td>Food</td>\n",
       "      <td>USD</td>\n",
       "      <td>2016-04-01</td>\n",
       "      <td>50000.0</td>\n",
       "      <td>2016-02-26 13:38:27</td>\n",
       "      <td>52375.0</td>\n",
       "      <td>successful</td>\n",
       "      <td>224</td>\n",
       "      <td>US</td>\n",
       "      <td>52375.0</td>\n",
       "      <td>52375.0</td>\n",
       "      <td>50000.00</td>\n",
       "    </tr>\n",
       "    <tr>\n",
       "      <th>...</th>\n",
       "      <td>...</td>\n",
       "      <td>...</td>\n",
       "      <td>...</td>\n",
       "      <td>...</td>\n",
       "      <td>...</td>\n",
       "      <td>...</td>\n",
       "      <td>...</td>\n",
       "      <td>...</td>\n",
       "      <td>...</td>\n",
       "      <td>...</td>\n",
       "      <td>...</td>\n",
       "      <td>...</td>\n",
       "      <td>...</td>\n",
       "      <td>...</td>\n",
       "      <td>...</td>\n",
       "    </tr>\n",
       "    <tr>\n",
       "      <th>378654</th>\n",
       "      <td>999975836</td>\n",
       "      <td>Homemade fresh dog food, Cleveland OH</td>\n",
       "      <td>Small Batch</td>\n",
       "      <td>Food</td>\n",
       "      <td>USD</td>\n",
       "      <td>2017-04-19</td>\n",
       "      <td>6500.0</td>\n",
       "      <td>2017-03-20 22:08:22</td>\n",
       "      <td>154.0</td>\n",
       "      <td>failed</td>\n",
       "      <td>4</td>\n",
       "      <td>US</td>\n",
       "      <td>0.0</td>\n",
       "      <td>154.0</td>\n",
       "      <td>6500.00</td>\n",
       "    </tr>\n",
       "    <tr>\n",
       "      <th>378657</th>\n",
       "      <td>999977640</td>\n",
       "      <td>The Tribe</td>\n",
       "      <td>Narrative Film</td>\n",
       "      <td>Film &amp; Video</td>\n",
       "      <td>USD</td>\n",
       "      <td>2011-07-19</td>\n",
       "      <td>1500.0</td>\n",
       "      <td>2011-06-22 03:35:14</td>\n",
       "      <td>155.0</td>\n",
       "      <td>failed</td>\n",
       "      <td>5</td>\n",
       "      <td>US</td>\n",
       "      <td>155.0</td>\n",
       "      <td>155.0</td>\n",
       "      <td>1500.00</td>\n",
       "    </tr>\n",
       "    <tr>\n",
       "      <th>378658</th>\n",
       "      <td>999986353</td>\n",
       "      <td>Walls of Remedy- New lesbian Romantic Comedy f...</td>\n",
       "      <td>Narrative Film</td>\n",
       "      <td>Film &amp; Video</td>\n",
       "      <td>USD</td>\n",
       "      <td>2010-08-16</td>\n",
       "      <td>15000.0</td>\n",
       "      <td>2010-07-01 19:40:30</td>\n",
       "      <td>20.0</td>\n",
       "      <td>failed</td>\n",
       "      <td>1</td>\n",
       "      <td>US</td>\n",
       "      <td>20.0</td>\n",
       "      <td>20.0</td>\n",
       "      <td>15000.00</td>\n",
       "    </tr>\n",
       "    <tr>\n",
       "      <th>378659</th>\n",
       "      <td>999987933</td>\n",
       "      <td>BioDefense Education Kit</td>\n",
       "      <td>Technology</td>\n",
       "      <td>Technology</td>\n",
       "      <td>USD</td>\n",
       "      <td>2016-02-13</td>\n",
       "      <td>15000.0</td>\n",
       "      <td>2016-01-13 18:13:53</td>\n",
       "      <td>200.0</td>\n",
       "      <td>failed</td>\n",
       "      <td>6</td>\n",
       "      <td>US</td>\n",
       "      <td>200.0</td>\n",
       "      <td>200.0</td>\n",
       "      <td>15000.00</td>\n",
       "    </tr>\n",
       "    <tr>\n",
       "      <th>378660</th>\n",
       "      <td>999988282</td>\n",
       "      <td>Nou Renmen Ayiti!  We Love Haiti!</td>\n",
       "      <td>Performance Art</td>\n",
       "      <td>Art</td>\n",
       "      <td>USD</td>\n",
       "      <td>2011-08-16</td>\n",
       "      <td>2000.0</td>\n",
       "      <td>2011-07-19 09:07:47</td>\n",
       "      <td>524.0</td>\n",
       "      <td>failed</td>\n",
       "      <td>17</td>\n",
       "      <td>US</td>\n",
       "      <td>524.0</td>\n",
       "      <td>524.0</td>\n",
       "      <td>2000.00</td>\n",
       "    </tr>\n",
       "  </tbody>\n",
       "</table>\n",
       "<p>331675 rows × 15 columns</p>\n",
       "</div>"
      ],
      "text/plain": [
       "                ID  ... usd_goal_real\n",
       "0       1000002330  ...       1533.95\n",
       "1       1000003930  ...      30000.00\n",
       "2       1000004038  ...      45000.00\n",
       "3       1000007540  ...       5000.00\n",
       "5       1000014025  ...      50000.00\n",
       "...            ...  ...           ...\n",
       "378654   999975836  ...       6500.00\n",
       "378657   999977640  ...       1500.00\n",
       "378658   999986353  ...      15000.00\n",
       "378659   999987933  ...      15000.00\n",
       "378660   999988282  ...       2000.00\n",
       "\n",
       "[331675 rows x 15 columns]"
      ]
     },
     "execution_count": 12,
     "metadata": {
      "tags": []
     },
     "output_type": "execute_result"
    }
   ],
   "source": [
    "# select the projects that have state either being 'successful' or being 'failed' \n",
    "df = df.loc[df['state'].isin(['failed', 'successful'])]\n",
    "# or df = df.loc[(df['state'] == 'failed') | (df['state'] == 'successful')]\n",
    "# df = df.loc[df['state'].isin(['failed', 'successful'])]\n",
    "df"
   ]
  },
  {
   "cell_type": "code",
   "execution_count": 13,
   "metadata": {
    "colab": {
     "base_uri": "https://localhost:8080/"
    },
    "id": "uH8JkAHLnj_R",
    "outputId": "24501855-8c02-48de-e625-fc84b9d59ca8"
   },
   "outputs": [
    {
     "data": {
      "text/plain": [
       "launched    0\n",
       "deadline    0\n",
       "dtype: int64"
      ]
     },
     "execution_count": 13,
     "metadata": {
      "tags": []
     },
     "output_type": "execute_result"
    }
   ],
   "source": [
    "# For above, we notice that the 'deadline' feature and the 'launched' time feature can be combined together to gain the 'number of active days' of a project as a new feature\n",
    "# Hence, we can do the pre-processing of the date features here\n",
    "# But before proceeding to the pre-processing of the date features, we must to check how many missing values are under the feature 'deadline' and 'launched'\n",
    "# If there are just a few missing values under the 2 date features, we can just drop out the samples with the missing values by 'df[['launched','deadline']].dropna()'\n",
    "df[['launched','deadline']].isnull().sum()\n",
    "\n",
    "# Note: the reason why we check the number of the missing values instead of directly dropping out the samples with missing values is that if there is a large number of samples having missing value under the feature 'launched' or 'deadline',\n",
    "# it may not be a wise approach to just drop out the samples with missing values as we can lose considerable amount of information&data\n",
    "\n",
    "# Fortunately, as we can see below, there is no missing value under the feature 'deadline' and 'launched', so we can combine the two features without worrying about how to handle the samples with the missing value\n"
   ]
  },
  {
   "cell_type": "code",
   "execution_count": 14,
   "metadata": {
    "colab": {
     "base_uri": "https://localhost:8080/"
    },
    "id": "X12ByONGnj_S",
    "outputId": "054b5755-fd2c-4e7a-ac88-d7c1b9bb9053"
   },
   "outputs": [
    {
     "name": "stderr",
     "output_type": "stream",
     "text": [
      "/usr/local/lib/python3.7/dist-packages/ipykernel_launcher.py:1: SettingWithCopyWarning: \n",
      "A value is trying to be set on a copy of a slice from a DataFrame.\n",
      "Try using .loc[row_indexer,col_indexer] = value instead\n",
      "\n",
      "See the caveats in the documentation: https://pandas.pydata.org/pandas-docs/stable/user_guide/indexing.html#returning-a-view-versus-a-copy\n",
      "  \"\"\"Entry point for launching an IPython kernel.\n",
      "/usr/local/lib/python3.7/dist-packages/ipykernel_launcher.py:2: SettingWithCopyWarning: \n",
      "A value is trying to be set on a copy of a slice from a DataFrame.\n",
      "Try using .loc[row_indexer,col_indexer] = value instead\n",
      "\n",
      "See the caveats in the documentation: https://pandas.pydata.org/pandas-docs/stable/user_guide/indexing.html#returning-a-view-versus-a-copy\n",
      "  \n",
      "/usr/local/lib/python3.7/dist-packages/ipykernel_launcher.py:6: SettingWithCopyWarning: \n",
      "A value is trying to be set on a copy of a slice from a DataFrame.\n",
      "Try using .loc[row_indexer,col_indexer] = value instead\n",
      "\n",
      "See the caveats in the documentation: https://pandas.pydata.org/pandas-docs/stable/user_guide/indexing.html#returning-a-view-versus-a-copy\n",
      "  \n",
      "/usr/local/lib/python3.7/dist-packages/ipykernel_launcher.py:7: SettingWithCopyWarning: \n",
      "A value is trying to be set on a copy of a slice from a DataFrame.\n",
      "Try using .loc[row_indexer,col_indexer] = value instead\n",
      "\n",
      "See the caveats in the documentation: https://pandas.pydata.org/pandas-docs/stable/user_guide/indexing.html#returning-a-view-versus-a-copy\n",
      "  import sys\n",
      "/usr/local/lib/python3.7/dist-packages/ipykernel_launcher.py:10: SettingWithCopyWarning: \n",
      "A value is trying to be set on a copy of a slice from a DataFrame.\n",
      "Try using .loc[row_indexer,col_indexer] = value instead\n",
      "\n",
      "See the caveats in the documentation: https://pandas.pydata.org/pandas-docs/stable/user_guide/indexing.html#returning-a-view-versus-a-copy\n",
      "  # Remove the CWD from sys.path while we load stuff.\n"
     ]
    },
    {
     "data": {
      "text/plain": [
       "0         59\n",
       "1         60\n",
       "2         45\n",
       "3         30\n",
       "5         35\n",
       "          ..\n",
       "378654    30\n",
       "378657    27\n",
       "378658    46\n",
       "378659    31\n",
       "378660    28\n",
       "Name: days_active, Length: 331675, dtype: int64"
      ]
     },
     "execution_count": 14,
     "metadata": {
      "tags": []
     },
     "output_type": "execute_result"
    }
   ],
   "source": [
    "df['launched'] = pd.to_datetime(df['launched']) # convert 'launched' time into datetime Series\n",
    "df['launched'] = df['launched'].dt.date # we notice that the precision of the 'launched' time is 'second', while the precision of the 'deadline' time is 'day',\n",
    "# so we can just convert the precision of the 'launched' time to 'days' as converting the precision of the 'deadline' time to 'second' is infeasible (need make assumptions about when the crowdfundings of the projects ends)\n",
    "# and this kind of 'zoom_in' operation from 'days' into 'seconds' should not have a big impact on the prediction of the model\n",
    "\n",
    "df['deadline'] = pd.to_datetime(df['deadline']) # convert 'deadline' time to datetime Series\n",
    "df['deadline'] = df['deadline'].dt.date # convert the precision of the 'deadline' time to 'days' (ensure the data type matches with df['launched'], which is 'object' rather than 'datetime64')\n",
    "\n",
    "#Creating a new feature named 'days_active' by simply subtracting the 'launched' date from the 'deadline' date\n",
    "df['days_active'] = (df['deadline'] - df['launched']).dt.days # after subtracting the 'launched' date from the 'deadline' date, we drops out the unit 'days'\n",
    "df['days_active'] # and the data type of the values under the feature 'days_active' is converted to 'int64' automatically\n"
   ]
  },
  {
   "cell_type": "code",
   "execution_count": 15,
   "metadata": {
    "colab": {
     "base_uri": "https://localhost:8080/",
     "height": 767
    },
    "id": "24TzXlRHnj_W",
    "outputId": "b1932a40-8c60-4ba0-b459-3aad7f7803f9"
   },
   "outputs": [
    {
     "name": "stderr",
     "output_type": "stream",
     "text": [
      "/usr/local/lib/python3.7/dist-packages/seaborn/distributions.py:2557: FutureWarning: `distplot` is a deprecated function and will be removed in a future version. Please adapt your code to use either `displot` (a figure-level function with similar flexibility) or `histplot` (an axes-level function for histograms).\n",
      "  warnings.warn(msg, FutureWarning)\n"
     ]
    },
    {
     "name": "stdout",
     "output_type": "stream",
     "text": [
      "Statistics about the duration of projects on Kickstarter:\n",
      " count    331675.000000\n",
      "mean         33.954875\n",
      "std          12.713332\n",
      "min           1.000000\n",
      "25%          30.000000\n",
      "50%          30.000000\n",
      "75%          36.000000\n",
      "max          92.000000\n",
      "Name: days_active, dtype: float64\n"
     ]
    },
    {
     "data": {
      "image/png": "[encoded data removed]",
      "text/plain": [
       "<Figure size 432x288 with 1 Axes>"
      ]
     },
     "metadata": {
      "tags": []
     },
     "output_type": "display_data"
    },
    {
     "data": {
      "image/png": "[encoded data removed]",
      "text/plain": [
       "<Figure size 432x288 with 1 Axes>"
      ]
     },
     "metadata": {
      "tags": []
     },
     "output_type": "display_data"
    }
   ],
   "source": [
    "# Visualize the distribution of values under the 'days_active' feature\n",
    "print('Statistics about the duration of projects on Kickstarter:\\n', df['days_active'].describe())\n",
    "\n",
    "sns.set_style('darkgrid')\n",
    "\n",
    "sns.distplot(df['days_active'], kde=False, bins=10, color='green')\n",
    "\n",
    "plt.title('Duration Distribution')\n",
    "plt.show()\n",
    "\n",
    "# we can see that nearly all the projects (around 99% of the projects) last less than 2 months (60 days) on Kickstarter\n",
    "\n",
    "fig, ax = plt.subplots(1, 1)\n",
    "(df['days_active'] <= 60).value_counts().plot.pie(autopct='%0.0f%%', \n",
    "                                             explode=[0,.6], \n",
    "                                             labels=None, \n",
    "                                             shadow=True, \n",
    "                                             colors=['#f7cc7b', '#a07bf7'])\n",
    "\n",
    "plt.ylabel('')\n",
    "plt.title('Kickstarter Duration Share')\n",
    "plt.legend(['less than or equal to 60 days', 'more than 60 days'], loc=3)\n",
    "\n",
    "plt.show()"
   ]
  },
  {
   "cell_type": "code",
   "execution_count": 16,
   "metadata": {
    "colab": {
     "base_uri": "https://localhost:8080/",
     "height": 364
    },
    "id": "j_uQBN-snj_Y",
    "outputId": "43b9773d-4bec-42e6-d9f2-1dc9bdb5113e"
   },
   "outputs": [
    {
     "data": {
      "text/plain": [
       "<matplotlib.axes._subplots.AxesSubplot at 0x7f3ceb663e90>"
      ]
     },
     "execution_count": 16,
     "metadata": {
      "tags": []
     },
     "output_type": "execute_result"
    },
    {
     "data": {
      "image/png": "[encoded data removed]",
      "text/plain": [
       "<Figure size 432x288 with 2 Axes>"
      ]
     },
     "metadata": {
      "tags": []
     },
     "output_type": "display_data"
    }
   ],
   "source": [
    "# See the correlations between features 'backers','usd_pledged_real', 'usd_goal_real', and 'days_active'\n",
    "sns.heatmap(data=df[['backers','usd_pledged_real','usd_goal_real', 'days_active']].corr(), annot=True)\n",
    "# We notice that the only one strong correlation within the 4 selected numeric features lies between the feature 'backers' and the feature 'usd_pledged_real',\n",
    "# which is intuitive since the core idea of the crowdfunding is to gather as many individuals as possible and encourage them to invest as much as they can,\n",
    "# which means that for the successful crowdfunding projects, there should be a linear relationship between the number of backers and the amount of money pledged, because a person must invest/contribute some money to the crowdfunding project to be counted as a backer,\n",
    "# and usually the contribution/investment from a single investor is not considerable comparing to the total fund raised, meaning that the number of backers must be large when the amount of money pledged is also large (provided that the crowdfunding is successful).\n",
    "# Unfortunately, the number of days a project lasted on the KickStarter website tends to be uncorrelated with either of the number of backers or the amount of money pledged\n",
    "\n"
   ]
  },
  {
   "cell_type": "code",
   "execution_count": 18,
   "metadata": {
    "colab": {
     "base_uri": "https://localhost:8080/",
     "height": 677
    },
    "id": "pT1o-0v6nj_Z",
    "outputId": "58a36c31-6dc2-4392-e7d3-91ab8b8d760f"
   },
   "outputs": [
    {
     "data": {
      "text/html": [
       "<div>\n",
       "<style scoped>\n",
       "    .dataframe tbody tr th:only-of-type {\n",
       "        vertical-align: middle;\n",
       "    }\n",
       "\n",
       "    .dataframe tbody tr th {\n",
       "        vertical-align: top;\n",
       "    }\n",
       "\n",
       "    .dataframe thead th {\n",
       "        text-align: right;\n",
       "    }\n",
       "</style>\n",
       "<table border=\"1\" class=\"dataframe\">\n",
       "  <thead>\n",
       "    <tr style=\"text-align: right;\">\n",
       "      <th></th>\n",
       "      <th>ID</th>\n",
       "      <th>name</th>\n",
       "      <th>category</th>\n",
       "      <th>main_category</th>\n",
       "      <th>currency</th>\n",
       "      <th>deadline</th>\n",
       "      <th>goal</th>\n",
       "      <th>launched</th>\n",
       "      <th>pledged</th>\n",
       "      <th>state</th>\n",
       "      <th>backers</th>\n",
       "      <th>country</th>\n",
       "      <th>usd pledged</th>\n",
       "      <th>usd_pledged_real</th>\n",
       "      <th>usd_goal_real</th>\n",
       "      <th>days_active</th>\n",
       "    </tr>\n",
       "  </thead>\n",
       "  <tbody>\n",
       "    <tr>\n",
       "      <th>24</th>\n",
       "      <td>1000091520</td>\n",
       "      <td>The Book Zoo - A Mini-Comic</td>\n",
       "      <td>Comics</td>\n",
       "      <td>Comics</td>\n",
       "      <td>USD</td>\n",
       "      <td>2014-11-12</td>\n",
       "      <td>175.0</td>\n",
       "      <td>2014-10-23</td>\n",
       "      <td>701.66</td>\n",
       "      <td>successful</td>\n",
       "      <td>66</td>\n",
       "      <td>US</td>\n",
       "      <td>701.66</td>\n",
       "      <td>701.66</td>\n",
       "      <td>175.00</td>\n",
       "      <td>20</td>\n",
       "    </tr>\n",
       "    <tr>\n",
       "      <th>28</th>\n",
       "      <td>1000104953</td>\n",
       "      <td>Rebel Army Origins: The Heroic Story Of Major ...</td>\n",
       "      <td>Comics</td>\n",
       "      <td>Comics</td>\n",
       "      <td>GBP</td>\n",
       "      <td>2016-01-28</td>\n",
       "      <td>100.0</td>\n",
       "      <td>2015-12-29</td>\n",
       "      <td>112.38</td>\n",
       "      <td>successful</td>\n",
       "      <td>27</td>\n",
       "      <td>GB</td>\n",
       "      <td>167.70</td>\n",
       "      <td>160.60</td>\n",
       "      <td>142.91</td>\n",
       "      <td>30</td>\n",
       "    </tr>\n",
       "    <tr>\n",
       "      <th>64</th>\n",
       "      <td>1000243793</td>\n",
       "      <td>\"JurassicJurassix\" by The Guilt</td>\n",
       "      <td>Rock</td>\n",
       "      <td>Music</td>\n",
       "      <td>USD</td>\n",
       "      <td>2015-04-09</td>\n",
       "      <td>850.0</td>\n",
       "      <td>2015-02-23</td>\n",
       "      <td>485.00</td>\n",
       "      <td>failed</td>\n",
       "      <td>13</td>\n",
       "      <td>US</td>\n",
       "      <td>485.00</td>\n",
       "      <td>485.00</td>\n",
       "      <td>850.00</td>\n",
       "      <td>45</td>\n",
       "    </tr>\n",
       "    <tr>\n",
       "      <th>83</th>\n",
       "      <td>1000333671</td>\n",
       "      <td>Spiral Electric Skylab Recording</td>\n",
       "      <td>Rock</td>\n",
       "      <td>Music</td>\n",
       "      <td>USD</td>\n",
       "      <td>2015-02-26</td>\n",
       "      <td>500.0</td>\n",
       "      <td>2015-02-04</td>\n",
       "      <td>1540.00</td>\n",
       "      <td>successful</td>\n",
       "      <td>31</td>\n",
       "      <td>US</td>\n",
       "      <td>1540.00</td>\n",
       "      <td>1540.00</td>\n",
       "      <td>500.00</td>\n",
       "      <td>22</td>\n",
       "    </tr>\n",
       "    <tr>\n",
       "      <th>84</th>\n",
       "      <td>1000334074</td>\n",
       "      <td>The Locals Only Shirt</td>\n",
       "      <td>Fashion</td>\n",
       "      <td>Fashion</td>\n",
       "      <td>USD</td>\n",
       "      <td>2012-05-18</td>\n",
       "      <td>500.0</td>\n",
       "      <td>2012-05-01</td>\n",
       "      <td>754.82</td>\n",
       "      <td>successful</td>\n",
       "      <td>36</td>\n",
       "      <td>US</td>\n",
       "      <td>754.82</td>\n",
       "      <td>754.82</td>\n",
       "      <td>500.00</td>\n",
       "      <td>17</td>\n",
       "    </tr>\n",
       "    <tr>\n",
       "      <th>...</th>\n",
       "      <td>...</td>\n",
       "      <td>...</td>\n",
       "      <td>...</td>\n",
       "      <td>...</td>\n",
       "      <td>...</td>\n",
       "      <td>...</td>\n",
       "      <td>...</td>\n",
       "      <td>...</td>\n",
       "      <td>...</td>\n",
       "      <td>...</td>\n",
       "      <td>...</td>\n",
       "      <td>...</td>\n",
       "      <td>...</td>\n",
       "      <td>...</td>\n",
       "      <td>...</td>\n",
       "      <td>...</td>\n",
       "    </tr>\n",
       "    <tr>\n",
       "      <th>378526</th>\n",
       "      <td>999291866</td>\n",
       "      <td>Sherlock Holmes Re-Imagined</td>\n",
       "      <td>Fiction</td>\n",
       "      <td>Publishing</td>\n",
       "      <td>GBP</td>\n",
       "      <td>2016-07-31</td>\n",
       "      <td>500.0</td>\n",
       "      <td>2016-06-28</td>\n",
       "      <td>1795.00</td>\n",
       "      <td>successful</td>\n",
       "      <td>53</td>\n",
       "      <td>GB</td>\n",
       "      <td>1121.07</td>\n",
       "      <td>2361.16</td>\n",
       "      <td>657.70</td>\n",
       "      <td>33</td>\n",
       "    </tr>\n",
       "    <tr>\n",
       "      <th>378543</th>\n",
       "      <td>999371383</td>\n",
       "      <td>\"The Bear\" an A2 Media Film</td>\n",
       "      <td>Fantasy</td>\n",
       "      <td>Film &amp; Video</td>\n",
       "      <td>GBP</td>\n",
       "      <td>2014-11-27</td>\n",
       "      <td>250.0</td>\n",
       "      <td>2014-11-07</td>\n",
       "      <td>105.00</td>\n",
       "      <td>failed</td>\n",
       "      <td>13</td>\n",
       "      <td>GB</td>\n",
       "      <td>167.59</td>\n",
       "      <td>164.81</td>\n",
       "      <td>392.40</td>\n",
       "      <td>20</td>\n",
       "    </tr>\n",
       "    <tr>\n",
       "      <th>378544</th>\n",
       "      <td>999387668</td>\n",
       "      <td>How To Create a WordPress Website In 2017</td>\n",
       "      <td>Web</td>\n",
       "      <td>Technology</td>\n",
       "      <td>CAD</td>\n",
       "      <td>2017-09-14</td>\n",
       "      <td>500.0</td>\n",
       "      <td>2017-08-25</td>\n",
       "      <td>311.00</td>\n",
       "      <td>failed</td>\n",
       "      <td>16</td>\n",
       "      <td>CA</td>\n",
       "      <td>127.54</td>\n",
       "      <td>256.24</td>\n",
       "      <td>411.96</td>\n",
       "      <td>20</td>\n",
       "    </tr>\n",
       "    <tr>\n",
       "      <th>378610</th>\n",
       "      <td>999741441</td>\n",
       "      <td>CORPOREAL</td>\n",
       "      <td>Dance</td>\n",
       "      <td>Dance</td>\n",
       "      <td>USD</td>\n",
       "      <td>2013-05-15</td>\n",
       "      <td>500.0</td>\n",
       "      <td>2013-04-25</td>\n",
       "      <td>505.00</td>\n",
       "      <td>successful</td>\n",
       "      <td>14</td>\n",
       "      <td>US</td>\n",
       "      <td>505.00</td>\n",
       "      <td>505.00</td>\n",
       "      <td>500.00</td>\n",
       "      <td>20</td>\n",
       "    </tr>\n",
       "    <tr>\n",
       "      <th>378646</th>\n",
       "      <td>999943841</td>\n",
       "      <td>The Dog Coffee Book</td>\n",
       "      <td>Children's Books</td>\n",
       "      <td>Publishing</td>\n",
       "      <td>USD</td>\n",
       "      <td>2013-11-30</td>\n",
       "      <td>950.0</td>\n",
       "      <td>2013-10-18</td>\n",
       "      <td>1732.02</td>\n",
       "      <td>successful</td>\n",
       "      <td>31</td>\n",
       "      <td>US</td>\n",
       "      <td>1732.02</td>\n",
       "      <td>1732.02</td>\n",
       "      <td>950.00</td>\n",
       "      <td>43</td>\n",
       "    </tr>\n",
       "  </tbody>\n",
       "</table>\n",
       "<p>18749 rows × 16 columns</p>\n",
       "</div>"
      ],
      "text/plain": [
       "                ID  ... days_active\n",
       "24      1000091520  ...          20\n",
       "28      1000104953  ...          30\n",
       "64      1000243793  ...          45\n",
       "83      1000333671  ...          22\n",
       "84      1000334074  ...          17\n",
       "...            ...  ...         ...\n",
       "378526   999291866  ...          33\n",
       "378543   999371383  ...          20\n",
       "378544   999387668  ...          20\n",
       "378610   999741441  ...          20\n",
       "378646   999943841  ...          43\n",
       "\n",
       "[18749 rows x 16 columns]"
      ]
     },
     "execution_count": 18,
     "metadata": {
      "tags": []
     },
     "output_type": "execute_result"
    }
   ],
   "source": [
    "# As we can observe from the previous cell that has 'df.describe()', the minimal value for 'usd_goal_real' can be as low as '1.000000e-02'\n",
    "# which is equal to 0.01$ and looks like a prank/mischief. Therefore, we may need to filter out some projects that are not 'earnest' \n",
    "# Also, since we consider the crowdfunding of a project to be successful as long as its pledged amount is larger than its goal amount, \n",
    "# some successful samples might be inherently biased as their goal amounts are set to be unreasonably low and so can be reached easily with just a few backers \n",
    "# Hence, some data scientists (ex: https://www.kaggle.com/jennifercrockett/kickstarter-success-prediction-wip) may choose to set a threshold (ex: 1000) on the 'usd_goal_real' to filter out those 'meaningless outliers'\n",
    "# However, my thought is that for some meaningful projects that have low cost in nature, it is possible that the project initiator cannot gather a small amount of funding to proceed on his/her project\n",
    "# For example, for people with low level of income, if they want to invent/sell some cheap but meaningful/useful widgets, it is reasonable for them to set their goal amount to be low, and the number of backers should be relatively large \n",
    "# Thus, I decide to perform 2 filtering operation:\n",
    "\n",
    "# 1. Filter out the prank/mischief projects (if the 'usd_goal_real' is less than 100$, then it is likely to be a prank/mischief, as it is not convincing that anything useful/meaningful/original can be created with less than 100$)\n",
    "index_drop = df[df['usd_goal_real'] < 100].index\n",
    "df = df.drop(index_drop)\n",
    "\n",
    "# 2. Filter out the projects that have both low goal amount (less than 1000$) and number of backers (less than 10)\n",
    "index_drop = df[(df['usd_goal_real'] < 1000) & (df['backers'] < 10)].index  # get the index of the samples\n",
    "df = df.drop(index_drop)\n",
    "\n",
    "# As we can see below, comparing to simply setting a threshold for 'usd_goal_real' \n",
    "# we preserved around 19000 projects/samples that have a low goal amount (less than 1000$) but tend to be meaningful (as there are more than 10 backers supporting each of the projects)\n",
    "df[(df['usd_goal_real'] < 1000) & (df['backers'] > 10)]\n"
   ]
  },
  {
   "cell_type": "code",
   "execution_count": 19,
   "metadata": {
    "colab": {
     "base_uri": "https://localhost:8080/",
     "height": 419
    },
    "id": "VEM0ts_Dnj_b",
    "outputId": "d9b65f4b-a11b-4912-d719-74142246cf63"
   },
   "outputs": [
    {
     "data": {
      "text/html": [
       "<div>\n",
       "<style scoped>\n",
       "    .dataframe tbody tr th:only-of-type {\n",
       "        vertical-align: middle;\n",
       "    }\n",
       "\n",
       "    .dataframe tbody tr th {\n",
       "        vertical-align: top;\n",
       "    }\n",
       "\n",
       "    .dataframe thead th {\n",
       "        text-align: right;\n",
       "    }\n",
       "</style>\n",
       "<table border=\"1\" class=\"dataframe\">\n",
       "  <thead>\n",
       "    <tr style=\"text-align: right;\">\n",
       "      <th></th>\n",
       "      <th>name</th>\n",
       "      <th>category</th>\n",
       "      <th>main_category</th>\n",
       "      <th>currency</th>\n",
       "      <th>state</th>\n",
       "      <th>country</th>\n",
       "      <th>usd_goal_real</th>\n",
       "      <th>days_active</th>\n",
       "    </tr>\n",
       "  </thead>\n",
       "  <tbody>\n",
       "    <tr>\n",
       "      <th>0</th>\n",
       "      <td>The Songs of Adelaide &amp; Abullah</td>\n",
       "      <td>Poetry</td>\n",
       "      <td>Publishing</td>\n",
       "      <td>GBP</td>\n",
       "      <td>failed</td>\n",
       "      <td>GB</td>\n",
       "      <td>1533.95</td>\n",
       "      <td>59</td>\n",
       "    </tr>\n",
       "    <tr>\n",
       "      <th>1</th>\n",
       "      <td>Greeting From Earth: ZGAC Arts Capsule For ET</td>\n",
       "      <td>Narrative Film</td>\n",
       "      <td>Film &amp; Video</td>\n",
       "      <td>USD</td>\n",
       "      <td>failed</td>\n",
       "      <td>US</td>\n",
       "      <td>30000.00</td>\n",
       "      <td>60</td>\n",
       "    </tr>\n",
       "    <tr>\n",
       "      <th>2</th>\n",
       "      <td>Where is Hank?</td>\n",
       "      <td>Narrative Film</td>\n",
       "      <td>Film &amp; Video</td>\n",
       "      <td>USD</td>\n",
       "      <td>failed</td>\n",
       "      <td>US</td>\n",
       "      <td>45000.00</td>\n",
       "      <td>45</td>\n",
       "    </tr>\n",
       "    <tr>\n",
       "      <th>3</th>\n",
       "      <td>ToshiCapital Rekordz Needs Help to Complete Album</td>\n",
       "      <td>Music</td>\n",
       "      <td>Music</td>\n",
       "      <td>USD</td>\n",
       "      <td>failed</td>\n",
       "      <td>US</td>\n",
       "      <td>5000.00</td>\n",
       "      <td>30</td>\n",
       "    </tr>\n",
       "    <tr>\n",
       "      <th>5</th>\n",
       "      <td>Monarch Espresso Bar</td>\n",
       "      <td>Restaurants</td>\n",
       "      <td>Food</td>\n",
       "      <td>USD</td>\n",
       "      <td>successful</td>\n",
       "      <td>US</td>\n",
       "      <td>50000.00</td>\n",
       "      <td>35</td>\n",
       "    </tr>\n",
       "    <tr>\n",
       "      <th>...</th>\n",
       "      <td>...</td>\n",
       "      <td>...</td>\n",
       "      <td>...</td>\n",
       "      <td>...</td>\n",
       "      <td>...</td>\n",
       "      <td>...</td>\n",
       "      <td>...</td>\n",
       "      <td>...</td>\n",
       "    </tr>\n",
       "    <tr>\n",
       "      <th>378654</th>\n",
       "      <td>Homemade fresh dog food, Cleveland OH</td>\n",
       "      <td>Small Batch</td>\n",
       "      <td>Food</td>\n",
       "      <td>USD</td>\n",
       "      <td>failed</td>\n",
       "      <td>US</td>\n",
       "      <td>6500.00</td>\n",
       "      <td>30</td>\n",
       "    </tr>\n",
       "    <tr>\n",
       "      <th>378657</th>\n",
       "      <td>The Tribe</td>\n",
       "      <td>Narrative Film</td>\n",
       "      <td>Film &amp; Video</td>\n",
       "      <td>USD</td>\n",
       "      <td>failed</td>\n",
       "      <td>US</td>\n",
       "      <td>1500.00</td>\n",
       "      <td>27</td>\n",
       "    </tr>\n",
       "    <tr>\n",
       "      <th>378658</th>\n",
       "      <td>Walls of Remedy- New lesbian Romantic Comedy f...</td>\n",
       "      <td>Narrative Film</td>\n",
       "      <td>Film &amp; Video</td>\n",
       "      <td>USD</td>\n",
       "      <td>failed</td>\n",
       "      <td>US</td>\n",
       "      <td>15000.00</td>\n",
       "      <td>46</td>\n",
       "    </tr>\n",
       "    <tr>\n",
       "      <th>378659</th>\n",
       "      <td>BioDefense Education Kit</td>\n",
       "      <td>Technology</td>\n",
       "      <td>Technology</td>\n",
       "      <td>USD</td>\n",
       "      <td>failed</td>\n",
       "      <td>US</td>\n",
       "      <td>15000.00</td>\n",
       "      <td>31</td>\n",
       "    </tr>\n",
       "    <tr>\n",
       "      <th>378660</th>\n",
       "      <td>Nou Renmen Ayiti!  We Love Haiti!</td>\n",
       "      <td>Performance Art</td>\n",
       "      <td>Art</td>\n",
       "      <td>USD</td>\n",
       "      <td>failed</td>\n",
       "      <td>US</td>\n",
       "      <td>2000.00</td>\n",
       "      <td>28</td>\n",
       "    </tr>\n",
       "  </tbody>\n",
       "</table>\n",
       "<p>307734 rows × 8 columns</p>\n",
       "</div>"
      ],
      "text/plain": [
       "                                                     name  ... days_active\n",
       "0                         The Songs of Adelaide & Abullah  ...          59\n",
       "1           Greeting From Earth: ZGAC Arts Capsule For ET  ...          60\n",
       "2                                          Where is Hank?  ...          45\n",
       "3       ToshiCapital Rekordz Needs Help to Complete Album  ...          30\n",
       "5                                    Monarch Espresso Bar  ...          35\n",
       "...                                                   ...  ...         ...\n",
       "378654              Homemade fresh dog food, Cleveland OH  ...          30\n",
       "378657                                          The Tribe  ...          27\n",
       "378658  Walls of Remedy- New lesbian Romantic Comedy f...  ...          46\n",
       "378659                           BioDefense Education Kit  ...          31\n",
       "378660                  Nou Renmen Ayiti!  We Love Haiti!  ...          28\n",
       "\n",
       "[307734 rows x 8 columns]"
      ]
     },
     "execution_count": 19,
     "metadata": {
      "tags": []
     },
     "output_type": "execute_result"
    }
   ],
   "source": [
    "# As mentioned before, the feature 'usd_pledged' is not as reliable as the feature 'usd_pledged_real', so we may need to drop this feature out to remove redundancy \n",
    "\n",
    "# Also, as the feature 'goal' is the crowdfunding goal amount in the project required currency, we may need to remove this feature as well, because 'goal' can be highly correlated with the feature 'usd_goal_real', \n",
    "# while 'usd_goal_real' should be preferred to ‘goal’ as the numeric patterns and trends within the ‘usd_goal_real’ can be better captured due to the uniform measurement unit\n",
    "\n",
    "# Moreover, all the features about pledge such as 'pledged', 'usd_pledged', 'usd_pledged_real' should be removed, because our goal is to predict whether a potential project crowdfunding on Kickstarter will be successful or not before it is actually launched or posted in the Kickstarter website,\n",
    "# meaning the amount of 'pledged' should be unknown (as the project is not even posted yet). \n",
    "# Additionally, if the features about pledge are not removed, the model performance will be perfect, because the model can simply compare the 'goal' feature and the 'pledged' feature and know if the project is funded successfully or not (if goal amount < pledge amount, then success) \n",
    "# The same idea can be applied to the 'backer' feature (the number of 'backers' should be unknown before posting the project)\n",
    "# Also, the feature ID can be dropepd as it does not contribute any numeric meaning \n",
    "\n",
    "# The 'deadline' and 'launched' can also be removed as we have combined them into a feature 'days_active'\n",
    "\n",
    "feature_drop = ['ID', 'deadline', 'launched', 'pledged', 'backers', 'goal',\n",
    "              'usd pledged', 'usd_pledged_real']\n",
    "df.drop(feature_drop, axis=1, inplace=True)\n",
    "\n",
    "df"
   ]
  },
  {
   "cell_type": "code",
   "execution_count": 20,
   "metadata": {
    "colab": {
     "base_uri": "https://localhost:8080/",
     "height": 419
    },
    "id": "3fvmxafenj_c",
    "outputId": "552c3959-8a1c-4af7-be7b-be76150427f0"
   },
   "outputs": [
    {
     "data": {
      "text/html": [
       "<div>\n",
       "<style scoped>\n",
       "    .dataframe tbody tr th:only-of-type {\n",
       "        vertical-align: middle;\n",
       "    }\n",
       "\n",
       "    .dataframe tbody tr th {\n",
       "        vertical-align: top;\n",
       "    }\n",
       "\n",
       "    .dataframe thead th {\n",
       "        text-align: right;\n",
       "    }\n",
       "</style>\n",
       "<table border=\"1\" class=\"dataframe\">\n",
       "  <thead>\n",
       "    <tr style=\"text-align: right;\">\n",
       "      <th></th>\n",
       "      <th>name</th>\n",
       "      <th>category</th>\n",
       "      <th>main_category</th>\n",
       "      <th>currency</th>\n",
       "      <th>state</th>\n",
       "      <th>country</th>\n",
       "      <th>usd_goal_real</th>\n",
       "      <th>days_active</th>\n",
       "    </tr>\n",
       "  </thead>\n",
       "  <tbody>\n",
       "    <tr>\n",
       "      <th>0</th>\n",
       "      <td>The Songs of Adelaide &amp; Abullah</td>\n",
       "      <td>Poetry</td>\n",
       "      <td>Publishing</td>\n",
       "      <td>GBP</td>\n",
       "      <td>0</td>\n",
       "      <td>GB</td>\n",
       "      <td>1533.95</td>\n",
       "      <td>59</td>\n",
       "    </tr>\n",
       "    <tr>\n",
       "      <th>1</th>\n",
       "      <td>Greeting From Earth: ZGAC Arts Capsule For ET</td>\n",
       "      <td>Narrative Film</td>\n",
       "      <td>Film &amp; Video</td>\n",
       "      <td>USD</td>\n",
       "      <td>0</td>\n",
       "      <td>US</td>\n",
       "      <td>30000.00</td>\n",
       "      <td>60</td>\n",
       "    </tr>\n",
       "    <tr>\n",
       "      <th>2</th>\n",
       "      <td>Where is Hank?</td>\n",
       "      <td>Narrative Film</td>\n",
       "      <td>Film &amp; Video</td>\n",
       "      <td>USD</td>\n",
       "      <td>0</td>\n",
       "      <td>US</td>\n",
       "      <td>45000.00</td>\n",
       "      <td>45</td>\n",
       "    </tr>\n",
       "    <tr>\n",
       "      <th>3</th>\n",
       "      <td>ToshiCapital Rekordz Needs Help to Complete Album</td>\n",
       "      <td>Music</td>\n",
       "      <td>Music</td>\n",
       "      <td>USD</td>\n",
       "      <td>0</td>\n",
       "      <td>US</td>\n",
       "      <td>5000.00</td>\n",
       "      <td>30</td>\n",
       "    </tr>\n",
       "    <tr>\n",
       "      <th>5</th>\n",
       "      <td>Monarch Espresso Bar</td>\n",
       "      <td>Restaurants</td>\n",
       "      <td>Food</td>\n",
       "      <td>USD</td>\n",
       "      <td>1</td>\n",
       "      <td>US</td>\n",
       "      <td>50000.00</td>\n",
       "      <td>35</td>\n",
       "    </tr>\n",
       "    <tr>\n",
       "      <th>...</th>\n",
       "      <td>...</td>\n",
       "      <td>...</td>\n",
       "      <td>...</td>\n",
       "      <td>...</td>\n",
       "      <td>...</td>\n",
       "      <td>...</td>\n",
       "      <td>...</td>\n",
       "      <td>...</td>\n",
       "    </tr>\n",
       "    <tr>\n",
       "      <th>378654</th>\n",
       "      <td>Homemade fresh dog food, Cleveland OH</td>\n",
       "      <td>Small Batch</td>\n",
       "      <td>Food</td>\n",
       "      <td>USD</td>\n",
       "      <td>0</td>\n",
       "      <td>US</td>\n",
       "      <td>6500.00</td>\n",
       "      <td>30</td>\n",
       "    </tr>\n",
       "    <tr>\n",
       "      <th>378657</th>\n",
       "      <td>The Tribe</td>\n",
       "      <td>Narrative Film</td>\n",
       "      <td>Film &amp; Video</td>\n",
       "      <td>USD</td>\n",
       "      <td>0</td>\n",
       "      <td>US</td>\n",
       "      <td>1500.00</td>\n",
       "      <td>27</td>\n",
       "    </tr>\n",
       "    <tr>\n",
       "      <th>378658</th>\n",
       "      <td>Walls of Remedy- New lesbian Romantic Comedy f...</td>\n",
       "      <td>Narrative Film</td>\n",
       "      <td>Film &amp; Video</td>\n",
       "      <td>USD</td>\n",
       "      <td>0</td>\n",
       "      <td>US</td>\n",
       "      <td>15000.00</td>\n",
       "      <td>46</td>\n",
       "    </tr>\n",
       "    <tr>\n",
       "      <th>378659</th>\n",
       "      <td>BioDefense Education Kit</td>\n",
       "      <td>Technology</td>\n",
       "      <td>Technology</td>\n",
       "      <td>USD</td>\n",
       "      <td>0</td>\n",
       "      <td>US</td>\n",
       "      <td>15000.00</td>\n",
       "      <td>31</td>\n",
       "    </tr>\n",
       "    <tr>\n",
       "      <th>378660</th>\n",
       "      <td>Nou Renmen Ayiti!  We Love Haiti!</td>\n",
       "      <td>Performance Art</td>\n",
       "      <td>Art</td>\n",
       "      <td>USD</td>\n",
       "      <td>0</td>\n",
       "      <td>US</td>\n",
       "      <td>2000.00</td>\n",
       "      <td>28</td>\n",
       "    </tr>\n",
       "  </tbody>\n",
       "</table>\n",
       "<p>307734 rows × 8 columns</p>\n",
       "</div>"
      ],
      "text/plain": [
       "                                                     name  ... days_active\n",
       "0                         The Songs of Adelaide & Abullah  ...          59\n",
       "1           Greeting From Earth: ZGAC Arts Capsule For ET  ...          60\n",
       "2                                          Where is Hank?  ...          45\n",
       "3       ToshiCapital Rekordz Needs Help to Complete Album  ...          30\n",
       "5                                    Monarch Espresso Bar  ...          35\n",
       "...                                                   ...  ...         ...\n",
       "378654              Homemade fresh dog food, Cleveland OH  ...          30\n",
       "378657                                          The Tribe  ...          27\n",
       "378658  Walls of Remedy- New lesbian Romantic Comedy f...  ...          46\n",
       "378659                           BioDefense Education Kit  ...          31\n",
       "378660                  Nou Renmen Ayiti!  We Love Haiti!  ...          28\n",
       "\n",
       "[307734 rows x 8 columns]"
      ]
     },
     "execution_count": 20,
     "metadata": {
      "tags": []
     },
     "output_type": "execute_result"
    }
   ],
   "source": [
    "# Convert the values under the target attribute 'state' to numeric class label\n",
    "# 1 for 'successful', 0 for 'failed'\n",
    "df['state'] = df['state'].apply(lambda x: 1 if x==\"successful\" else 0)\n",
    "df"
   ]
  },
  {
   "cell_type": "code",
   "execution_count": 21,
   "metadata": {
    "colab": {
     "base_uri": "https://localhost:8080/",
     "height": 297
    },
    "id": "xLWGzGABnj_c",
    "outputId": "be6e7bb7-2aeb-44d5-8602-042eefbc4b54"
   },
   "outputs": [
    {
     "data": {
      "text/html": [
       "<div>\n",
       "<style scoped>\n",
       "    .dataframe tbody tr th:only-of-type {\n",
       "        vertical-align: middle;\n",
       "    }\n",
       "\n",
       "    .dataframe tbody tr th {\n",
       "        vertical-align: top;\n",
       "    }\n",
       "\n",
       "    .dataframe thead th {\n",
       "        text-align: right;\n",
       "    }\n",
       "</style>\n",
       "<table border=\"1\" class=\"dataframe\">\n",
       "  <thead>\n",
       "    <tr style=\"text-align: right;\">\n",
       "      <th></th>\n",
       "      <th>state</th>\n",
       "      <th>usd_goal_real</th>\n",
       "      <th>days_active</th>\n",
       "    </tr>\n",
       "  </thead>\n",
       "  <tbody>\n",
       "    <tr>\n",
       "      <th>count</th>\n",
       "      <td>307734.000000</td>\n",
       "      <td>3.077340e+05</td>\n",
       "      <td>307734.000000</td>\n",
       "    </tr>\n",
       "    <tr>\n",
       "      <th>mean</th>\n",
       "      <td>0.417432</td>\n",
       "      <td>4.470750e+04</td>\n",
       "      <td>34.271891</td>\n",
       "    </tr>\n",
       "    <tr>\n",
       "      <th>std</th>\n",
       "      <td>0.493136</td>\n",
       "      <td>1.151197e+06</td>\n",
       "      <td>12.596925</td>\n",
       "    </tr>\n",
       "    <tr>\n",
       "      <th>min</th>\n",
       "      <td>0.000000</td>\n",
       "      <td>1.000000e+02</td>\n",
       "      <td>1.000000</td>\n",
       "    </tr>\n",
       "    <tr>\n",
       "      <th>25%</th>\n",
       "      <td>0.000000</td>\n",
       "      <td>2.500000e+03</td>\n",
       "      <td>30.000000</td>\n",
       "    </tr>\n",
       "    <tr>\n",
       "      <th>50%</th>\n",
       "      <td>0.000000</td>\n",
       "      <td>6.000000e+03</td>\n",
       "      <td>30.000000</td>\n",
       "    </tr>\n",
       "    <tr>\n",
       "      <th>75%</th>\n",
       "      <td>1.000000</td>\n",
       "      <td>1.604364e+04</td>\n",
       "      <td>37.000000</td>\n",
       "    </tr>\n",
       "    <tr>\n",
       "      <th>max</th>\n",
       "      <td>1.000000</td>\n",
       "      <td>1.663614e+08</td>\n",
       "      <td>92.000000</td>\n",
       "    </tr>\n",
       "  </tbody>\n",
       "</table>\n",
       "</div>"
      ],
      "text/plain": [
       "               state  usd_goal_real    days_active\n",
       "count  307734.000000   3.077340e+05  307734.000000\n",
       "mean        0.417432   4.470750e+04      34.271891\n",
       "std         0.493136   1.151197e+06      12.596925\n",
       "min         0.000000   1.000000e+02       1.000000\n",
       "25%         0.000000   2.500000e+03      30.000000\n",
       "50%         0.000000   6.000000e+03      30.000000\n",
       "75%         1.000000   1.604364e+04      37.000000\n",
       "max         1.000000   1.663614e+08      92.000000"
      ]
     },
     "execution_count": 21,
     "metadata": {
      "tags": []
     },
     "output_type": "execute_result"
    }
   ],
   "source": [
    "df.describe()"
   ]
  },
  {
   "cell_type": "code",
   "execution_count": 22,
   "metadata": {
    "colab": {
     "base_uri": "https://localhost:8080/",
     "height": 419
    },
    "id": "Xldtlk7xnj_d",
    "outputId": "29ab71ce-8c18-4243-8d59-468e5bf29c19"
   },
   "outputs": [
    {
     "data": {
      "text/html": [
       "<div>\n",
       "<style scoped>\n",
       "    .dataframe tbody tr th:only-of-type {\n",
       "        vertical-align: middle;\n",
       "    }\n",
       "\n",
       "    .dataframe tbody tr th {\n",
       "        vertical-align: top;\n",
       "    }\n",
       "\n",
       "    .dataframe thead th {\n",
       "        text-align: right;\n",
       "    }\n",
       "</style>\n",
       "<table border=\"1\" class=\"dataframe\">\n",
       "  <thead>\n",
       "    <tr style=\"text-align: right;\">\n",
       "      <th></th>\n",
       "      <th>name</th>\n",
       "      <th>category</th>\n",
       "      <th>main_category</th>\n",
       "      <th>currency</th>\n",
       "      <th>state</th>\n",
       "      <th>country</th>\n",
       "      <th>usd_goal_real</th>\n",
       "      <th>days_active</th>\n",
       "    </tr>\n",
       "  </thead>\n",
       "  <tbody>\n",
       "    <tr>\n",
       "      <th>0</th>\n",
       "      <td>The Songs of Adelaide &amp; Abullah</td>\n",
       "      <td>Poetry</td>\n",
       "      <td>Publishing</td>\n",
       "      <td>GBP</td>\n",
       "      <td>0</td>\n",
       "      <td>GB</td>\n",
       "      <td>1533.95</td>\n",
       "      <td>59</td>\n",
       "    </tr>\n",
       "    <tr>\n",
       "      <th>1</th>\n",
       "      <td>Greeting From Earth: ZGAC Arts Capsule For ET</td>\n",
       "      <td>Narrative Film</td>\n",
       "      <td>Film &amp; Video</td>\n",
       "      <td>USD</td>\n",
       "      <td>0</td>\n",
       "      <td>US</td>\n",
       "      <td>30000.00</td>\n",
       "      <td>60</td>\n",
       "    </tr>\n",
       "    <tr>\n",
       "      <th>2</th>\n",
       "      <td>Where is Hank?</td>\n",
       "      <td>Narrative Film</td>\n",
       "      <td>Film &amp; Video</td>\n",
       "      <td>USD</td>\n",
       "      <td>0</td>\n",
       "      <td>US</td>\n",
       "      <td>45000.00</td>\n",
       "      <td>45</td>\n",
       "    </tr>\n",
       "    <tr>\n",
       "      <th>3</th>\n",
       "      <td>ToshiCapital Rekordz Needs Help to Complete Album</td>\n",
       "      <td>Music</td>\n",
       "      <td>Music</td>\n",
       "      <td>USD</td>\n",
       "      <td>0</td>\n",
       "      <td>US</td>\n",
       "      <td>5000.00</td>\n",
       "      <td>30</td>\n",
       "    </tr>\n",
       "    <tr>\n",
       "      <th>5</th>\n",
       "      <td>Monarch Espresso Bar</td>\n",
       "      <td>Restaurants</td>\n",
       "      <td>Food</td>\n",
       "      <td>USD</td>\n",
       "      <td>1</td>\n",
       "      <td>US</td>\n",
       "      <td>50000.00</td>\n",
       "      <td>35</td>\n",
       "    </tr>\n",
       "    <tr>\n",
       "      <th>...</th>\n",
       "      <td>...</td>\n",
       "      <td>...</td>\n",
       "      <td>...</td>\n",
       "      <td>...</td>\n",
       "      <td>...</td>\n",
       "      <td>...</td>\n",
       "      <td>...</td>\n",
       "      <td>...</td>\n",
       "    </tr>\n",
       "    <tr>\n",
       "      <th>378654</th>\n",
       "      <td>Homemade fresh dog food, Cleveland OH</td>\n",
       "      <td>Small Batch</td>\n",
       "      <td>Food</td>\n",
       "      <td>USD</td>\n",
       "      <td>0</td>\n",
       "      <td>US</td>\n",
       "      <td>6500.00</td>\n",
       "      <td>30</td>\n",
       "    </tr>\n",
       "    <tr>\n",
       "      <th>378657</th>\n",
       "      <td>The Tribe</td>\n",
       "      <td>Narrative Film</td>\n",
       "      <td>Film &amp; Video</td>\n",
       "      <td>USD</td>\n",
       "      <td>0</td>\n",
       "      <td>US</td>\n",
       "      <td>1500.00</td>\n",
       "      <td>27</td>\n",
       "    </tr>\n",
       "    <tr>\n",
       "      <th>378658</th>\n",
       "      <td>Walls of Remedy- New lesbian Romantic Comedy f...</td>\n",
       "      <td>Narrative Film</td>\n",
       "      <td>Film &amp; Video</td>\n",
       "      <td>USD</td>\n",
       "      <td>0</td>\n",
       "      <td>US</td>\n",
       "      <td>15000.00</td>\n",
       "      <td>46</td>\n",
       "    </tr>\n",
       "    <tr>\n",
       "      <th>378659</th>\n",
       "      <td>BioDefense Education Kit</td>\n",
       "      <td>Technology</td>\n",
       "      <td>Technology</td>\n",
       "      <td>USD</td>\n",
       "      <td>0</td>\n",
       "      <td>US</td>\n",
       "      <td>15000.00</td>\n",
       "      <td>31</td>\n",
       "    </tr>\n",
       "    <tr>\n",
       "      <th>378660</th>\n",
       "      <td>Nou Renmen Ayiti!  We Love Haiti!</td>\n",
       "      <td>Performance Art</td>\n",
       "      <td>Art</td>\n",
       "      <td>USD</td>\n",
       "      <td>0</td>\n",
       "      <td>US</td>\n",
       "      <td>2000.00</td>\n",
       "      <td>28</td>\n",
       "    </tr>\n",
       "  </tbody>\n",
       "</table>\n",
       "<p>307731 rows × 8 columns</p>\n",
       "</div>"
      ],
      "text/plain": [
       "                                                     name  ... days_active\n",
       "0                         The Songs of Adelaide & Abullah  ...          59\n",
       "1           Greeting From Earth: ZGAC Arts Capsule For ET  ...          60\n",
       "2                                          Where is Hank?  ...          45\n",
       "3       ToshiCapital Rekordz Needs Help to Complete Album  ...          30\n",
       "5                                    Monarch Espresso Bar  ...          35\n",
       "...                                                   ...  ...         ...\n",
       "378654              Homemade fresh dog food, Cleveland OH  ...          30\n",
       "378657                                          The Tribe  ...          27\n",
       "378658  Walls of Remedy- New lesbian Romantic Comedy f...  ...          46\n",
       "378659                           BioDefense Education Kit  ...          31\n",
       "378660                  Nou Renmen Ayiti!  We Love Haiti!  ...          28\n",
       "\n",
       "[307731 rows x 8 columns]"
      ]
     },
     "execution_count": 22,
     "metadata": {
      "tags": []
     },
     "output_type": "execute_result"
    }
   ],
   "source": [
    "# As we observe from the above table/dataframe, the feature 'category', 'main_category', 'country', and 'currency' should be great fit to the OneHotEncoder pre-processor \n",
    "# (as these 4 features fit the definition of 'category' precisely such as no built-in hierarchies within the categorical values)\n",
    "# Hence, the pre-processing for these 4 features will be left to the following pipeline training structure\n",
    "\n",
    "# Therefore, the only one left feature without pre-processing is 'name', and we decide to do 2 things with the feature 'name'\n",
    "# 1. We can train a bidirectional RNN to predict if the crowdfunding of a project will be successful or not simply based on its project name\n",
    "# 2. We can generate additional features from the 'name' feature to train the following models in the pipeline structure (ex: the length of the names, if certain punctuation is used in names, etc)\n",
    "# At the end, we can combine the results/predictions generated by the 2 structurally different models together as the final output (This is an implementation of the ensemble method)\n",
    "\n",
    "# So firstly, we need to drop/filter out the projects/samples whose 'name' attribute values are unknown (as we cannot train the bidirectional RNN on 'invalid' text data)\n",
    "df = df[df['name'].notna()]\n",
    "df\n",
    "\n",
    "# Note: We will not drop any sample with missing value in features other than 'name' to ensure the sufficiency of the data, \n",
    "# Instead, we will use the 'IterativeImputer' to fill in missing values under the numeric features\n",
    "# and use 'SimpleImputer' to fill in the missing values under the categorical features"
   ]
  },
  {
   "cell_type": "code",
   "execution_count": 23,
   "metadata": {
    "colab": {
     "base_uri": "https://localhost:8080/"
    },
    "id": "xLHh67dNnj_e",
    "outputId": "308e7edd-a7d5-433e-d026-109b430de59f"
   },
   "outputs": [
    {
     "name": "stderr",
     "output_type": "stream",
     "text": [
      "/usr/local/lib/python3.7/dist-packages/ipykernel_launcher.py:3: SettingWithCopyWarning: \n",
      "A value is trying to be set on a copy of a slice from a DataFrame.\n",
      "Try using .loc[row_indexer,col_indexer] = value instead\n",
      "\n",
      "See the caveats in the documentation: https://pandas.pydata.org/pandas-docs/stable/user_guide/indexing.html#returning-a-view-versus-a-copy\n",
      "  This is separate from the ipykernel package so we can avoid doing imports until\n"
     ]
    },
    {
     "data": {
      "text/plain": [
       "count    307731.000000\n",
       "mean         34.510433\n",
       "std          16.008715\n",
       "min           1.000000\n",
       "25%          21.000000\n",
       "50%          34.000000\n",
       "75%          48.000000\n",
       "max          85.000000\n",
       "Name: name_len, dtype: float64"
      ]
     },
     "execution_count": 23,
     "metadata": {
      "tags": []
     },
     "output_type": "execute_result"
    }
   ],
   "source": [
    "# Generate additional features from the 'name' feature to train the following models in the pipeline structure \n",
    "# The first new feature 'name_len' containing the lengthes of the project names\n",
    "df['name_len'] = df.name.str.len() \n",
    "df['name_len'].describe()\n",
    "# We see that the minimal value of 'name_len' is 1, which means that some project names are as simple as only one character\n",
    "# which might be a prank/mischelf/mistake "
   ]
  },
  {
   "cell_type": "code",
   "execution_count": 24,
   "metadata": {
    "colab": {
     "base_uri": "https://localhost:8080/",
     "height": 1000
    },
    "id": "-WhMXANknj_f",
    "outputId": "d9605be6-3c8f-496f-d1e2-9e25a5326635"
   },
   "outputs": [
    {
     "name": "stderr",
     "output_type": "stream",
     "text": [
      "/usr/local/lib/python3.7/dist-packages/ipykernel_launcher.py:6: SettingWithCopyWarning: \n",
      "A value is trying to be set on a copy of a slice from a DataFrame.\n",
      "Try using .loc[row_indexer,col_indexer] = value instead\n",
      "\n",
      "See the caveats in the documentation: https://pandas.pydata.org/pandas-docs/stable/user_guide/indexing.html#returning-a-view-versus-a-copy\n",
      "  \n",
      "/usr/local/lib/python3.7/dist-packages/ipykernel_launcher.py:9: SettingWithCopyWarning: \n",
      "A value is trying to be set on a copy of a slice from a DataFrame.\n",
      "Try using .loc[row_indexer,col_indexer] = value instead\n",
      "\n",
      "See the caveats in the documentation: https://pandas.pydata.org/pandas-docs/stable/user_guide/indexing.html#returning-a-view-versus-a-copy\n",
      "  if __name__ == '__main__':\n",
      "/usr/local/lib/python3.7/dist-packages/ipykernel_launcher.py:14: SettingWithCopyWarning: \n",
      "A value is trying to be set on a copy of a slice from a DataFrame.\n",
      "Try using .loc[row_indexer,col_indexer] = value instead\n",
      "\n",
      "See the caveats in the documentation: https://pandas.pydata.org/pandas-docs/stable/user_guide/indexing.html#returning-a-view-versus-a-copy\n",
      "  \n",
      "/usr/local/lib/python3.7/dist-packages/ipykernel_launcher.py:17: SettingWithCopyWarning: \n",
      "A value is trying to be set on a copy of a slice from a DataFrame.\n",
      "Try using .loc[row_indexer,col_indexer] = value instead\n",
      "\n",
      "See the caveats in the documentation: https://pandas.pydata.org/pandas-docs/stable/user_guide/indexing.html#returning-a-view-versus-a-copy\n"
     ]
    },
    {
     "data": {
      "text/html": [
       "<div>\n",
       "<style scoped>\n",
       "    .dataframe tbody tr th:only-of-type {\n",
       "        vertical-align: middle;\n",
       "    }\n",
       "\n",
       "    .dataframe tbody tr th {\n",
       "        vertical-align: top;\n",
       "    }\n",
       "\n",
       "    .dataframe thead th {\n",
       "        text-align: right;\n",
       "    }\n",
       "</style>\n",
       "<table border=\"1\" class=\"dataframe\">\n",
       "  <thead>\n",
       "    <tr style=\"text-align: right;\">\n",
       "      <th></th>\n",
       "      <th>name</th>\n",
       "      <th>category</th>\n",
       "      <th>main_category</th>\n",
       "      <th>currency</th>\n",
       "      <th>state</th>\n",
       "      <th>country</th>\n",
       "      <th>usd_goal_real</th>\n",
       "      <th>days_active</th>\n",
       "      <th>name_len</th>\n",
       "      <th>name_contain_exclam</th>\n",
       "      <th>name_contain_question</th>\n",
       "      <th>name_is_title</th>\n",
       "      <th>name_is_upper</th>\n",
       "    </tr>\n",
       "  </thead>\n",
       "  <tbody>\n",
       "    <tr>\n",
       "      <th>0</th>\n",
       "      <td>The Songs of Adelaide &amp; Abullah</td>\n",
       "      <td>Poetry</td>\n",
       "      <td>Publishing</td>\n",
       "      <td>GBP</td>\n",
       "      <td>0</td>\n",
       "      <td>GB</td>\n",
       "      <td>1533.95</td>\n",
       "      <td>59</td>\n",
       "      <td>31</td>\n",
       "      <td>0</td>\n",
       "      <td>0</td>\n",
       "      <td>0</td>\n",
       "      <td>0</td>\n",
       "    </tr>\n",
       "    <tr>\n",
       "      <th>1</th>\n",
       "      <td>Greeting From Earth: ZGAC Arts Capsule For ET</td>\n",
       "      <td>Narrative Film</td>\n",
       "      <td>Film &amp; Video</td>\n",
       "      <td>USD</td>\n",
       "      <td>0</td>\n",
       "      <td>US</td>\n",
       "      <td>30000.00</td>\n",
       "      <td>60</td>\n",
       "      <td>45</td>\n",
       "      <td>0</td>\n",
       "      <td>0</td>\n",
       "      <td>0</td>\n",
       "      <td>0</td>\n",
       "    </tr>\n",
       "    <tr>\n",
       "      <th>2</th>\n",
       "      <td>Where is Hank?</td>\n",
       "      <td>Narrative Film</td>\n",
       "      <td>Film &amp; Video</td>\n",
       "      <td>USD</td>\n",
       "      <td>0</td>\n",
       "      <td>US</td>\n",
       "      <td>45000.00</td>\n",
       "      <td>45</td>\n",
       "      <td>14</td>\n",
       "      <td>0</td>\n",
       "      <td>1</td>\n",
       "      <td>0</td>\n",
       "      <td>0</td>\n",
       "    </tr>\n",
       "    <tr>\n",
       "      <th>3</th>\n",
       "      <td>ToshiCapital Rekordz Needs Help to Complete Album</td>\n",
       "      <td>Music</td>\n",
       "      <td>Music</td>\n",
       "      <td>USD</td>\n",
       "      <td>0</td>\n",
       "      <td>US</td>\n",
       "      <td>5000.00</td>\n",
       "      <td>30</td>\n",
       "      <td>49</td>\n",
       "      <td>0</td>\n",
       "      <td>0</td>\n",
       "      <td>0</td>\n",
       "      <td>0</td>\n",
       "    </tr>\n",
       "    <tr>\n",
       "      <th>5</th>\n",
       "      <td>Monarch Espresso Bar</td>\n",
       "      <td>Restaurants</td>\n",
       "      <td>Food</td>\n",
       "      <td>USD</td>\n",
       "      <td>1</td>\n",
       "      <td>US</td>\n",
       "      <td>50000.00</td>\n",
       "      <td>35</td>\n",
       "      <td>20</td>\n",
       "      <td>0</td>\n",
       "      <td>0</td>\n",
       "      <td>1</td>\n",
       "      <td>0</td>\n",
       "    </tr>\n",
       "    <tr>\n",
       "      <th>...</th>\n",
       "      <td>...</td>\n",
       "      <td>...</td>\n",
       "      <td>...</td>\n",
       "      <td>...</td>\n",
       "      <td>...</td>\n",
       "      <td>...</td>\n",
       "      <td>...</td>\n",
       "      <td>...</td>\n",
       "      <td>...</td>\n",
       "      <td>...</td>\n",
       "      <td>...</td>\n",
       "      <td>...</td>\n",
       "      <td>...</td>\n",
       "    </tr>\n",
       "    <tr>\n",
       "      <th>378654</th>\n",
       "      <td>Homemade fresh dog food, Cleveland OH</td>\n",
       "      <td>Small Batch</td>\n",
       "      <td>Food</td>\n",
       "      <td>USD</td>\n",
       "      <td>0</td>\n",
       "      <td>US</td>\n",
       "      <td>6500.00</td>\n",
       "      <td>30</td>\n",
       "      <td>37</td>\n",
       "      <td>0</td>\n",
       "      <td>0</td>\n",
       "      <td>0</td>\n",
       "      <td>0</td>\n",
       "    </tr>\n",
       "    <tr>\n",
       "      <th>378657</th>\n",
       "      <td>The Tribe</td>\n",
       "      <td>Narrative Film</td>\n",
       "      <td>Film &amp; Video</td>\n",
       "      <td>USD</td>\n",
       "      <td>0</td>\n",
       "      <td>US</td>\n",
       "      <td>1500.00</td>\n",
       "      <td>27</td>\n",
       "      <td>9</td>\n",
       "      <td>0</td>\n",
       "      <td>0</td>\n",
       "      <td>1</td>\n",
       "      <td>0</td>\n",
       "    </tr>\n",
       "    <tr>\n",
       "      <th>378658</th>\n",
       "      <td>Walls of Remedy- New lesbian Romantic Comedy f...</td>\n",
       "      <td>Narrative Film</td>\n",
       "      <td>Film &amp; Video</td>\n",
       "      <td>USD</td>\n",
       "      <td>0</td>\n",
       "      <td>US</td>\n",
       "      <td>15000.00</td>\n",
       "      <td>46</td>\n",
       "      <td>71</td>\n",
       "      <td>1</td>\n",
       "      <td>0</td>\n",
       "      <td>0</td>\n",
       "      <td>0</td>\n",
       "    </tr>\n",
       "    <tr>\n",
       "      <th>378659</th>\n",
       "      <td>BioDefense Education Kit</td>\n",
       "      <td>Technology</td>\n",
       "      <td>Technology</td>\n",
       "      <td>USD</td>\n",
       "      <td>0</td>\n",
       "      <td>US</td>\n",
       "      <td>15000.00</td>\n",
       "      <td>31</td>\n",
       "      <td>24</td>\n",
       "      <td>0</td>\n",
       "      <td>0</td>\n",
       "      <td>0</td>\n",
       "      <td>0</td>\n",
       "    </tr>\n",
       "    <tr>\n",
       "      <th>378660</th>\n",
       "      <td>Nou Renmen Ayiti!  We Love Haiti!</td>\n",
       "      <td>Performance Art</td>\n",
       "      <td>Art</td>\n",
       "      <td>USD</td>\n",
       "      <td>0</td>\n",
       "      <td>US</td>\n",
       "      <td>2000.00</td>\n",
       "      <td>28</td>\n",
       "      <td>33</td>\n",
       "      <td>1</td>\n",
       "      <td>0</td>\n",
       "      <td>1</td>\n",
       "      <td>0</td>\n",
       "    </tr>\n",
       "  </tbody>\n",
       "</table>\n",
       "<p>307731 rows × 13 columns</p>\n",
       "</div>"
      ],
      "text/plain": [
       "                                                     name  ... name_is_upper\n",
       "0                         The Songs of Adelaide & Abullah  ...             0\n",
       "1           Greeting From Earth: ZGAC Arts Capsule For ET  ...             0\n",
       "2                                          Where is Hank?  ...             0\n",
       "3       ToshiCapital Rekordz Needs Help to Complete Album  ...             0\n",
       "5                                    Monarch Espresso Bar  ...             0\n",
       "...                                                   ...  ...           ...\n",
       "378654              Homemade fresh dog food, Cleveland OH  ...             0\n",
       "378657                                          The Tribe  ...             0\n",
       "378658  Walls of Remedy- New lesbian Romantic Comedy f...  ...             0\n",
       "378659                           BioDefense Education Kit  ...             0\n",
       "378660                  Nou Renmen Ayiti!  We Love Haiti!  ...             0\n",
       "\n",
       "[307731 rows x 13 columns]"
      ]
     },
     "execution_count": 24,
     "metadata": {
      "tags": []
     },
     "output_type": "execute_result"
    }
   ],
   "source": [
    "# Consult: https://www.kaggle.com/majickdave/kickstarter-success-classifier-0-685, https://www.kaggle.com/srishti280992/kickstarter-project-classification-lgbm-70-3\n",
    "\n",
    "# Note: All the boolean values are converted into the integer representations of the boolean values (ex: 1 stands for 'True', 0 stands for 'False')\n",
    "\n",
    "# Those features shown in the project name should be attention catching, so we think adding such features into the training space should help the model to better classify the samples \n",
    "# The second new feature 'name_contain_exclam' containing the boolean value about if a project name contains a exclamation mark '!' or not\n",
    "df['name_contain_exclam'] = df.name.str.contains('!').astype(int)\n",
    "\n",
    "# The third new feature 'name_contain_question' containing the boolean value about if a project name contains a question mark '?' or not\n",
    "df['name_contain_question'] = df.name.str.contains(r'\\?').astype(int)\n",
    "\n",
    "# Alternative way:  pd.get_dummies(df.name.str.contains('!'), drop_first=True)\n",
    "\n",
    "# The fourth new feature 'name_is_tile' containing the boolean value about if a project name is title or not (True if all the words in a project name start with a upper case letter, AND the rest of the words are lower case letters)\n",
    "df['name_is_title'] = df.name.str.istitle().astype(int)\n",
    "\n",
    "# The fifth new feature 'name_is_upper' containing the boolean value about if a project name is uppercase or not (True if all the words in a project name are in upper case)\n",
    "df['name_is_upper'] = df.name.str.isupper().astype(int)\n",
    "\n",
    "df"
   ]
  },
  {
   "cell_type": "code",
   "execution_count": 25,
   "metadata": {
    "colab": {
     "base_uri": "https://localhost:8080/"
    },
    "id": "JLGlTjqjnj_i",
    "outputId": "493077d2-bc69-4a42-b485-a005e8bc0f5e"
   },
   "outputs": [
    {
     "name": "stderr",
     "output_type": "stream",
     "text": [
      "/usr/local/lib/python3.7/dist-packages/ipykernel_launcher.py:2: SettingWithCopyWarning: \n",
      "A value is trying to be set on a copy of a slice from a DataFrame.\n",
      "Try using .loc[row_indexer,col_indexer] = value instead\n",
      "\n",
      "See the caveats in the documentation: https://pandas.pydata.org/pandas-docs/stable/user_guide/indexing.html#returning-a-view-versus-a-copy\n",
      "  \n"
     ]
    },
    {
     "data": {
      "text/plain": [
       "count    307731.000000\n",
       "mean          5.703917\n",
       "std           2.792405\n",
       "min           1.000000\n",
       "25%           3.000000\n",
       "50%           5.000000\n",
       "75%           8.000000\n",
       "max          41.000000\n",
       "Name: name_word, dtype: float64"
      ]
     },
     "execution_count": 25,
     "metadata": {
      "tags": []
     },
     "output_type": "execute_result"
    }
   ],
   "source": [
    "# The sixth new feature 'name_word' containing the numbers of words project names have\n",
    "df['name_word'] = df.name.apply(lambda x: len(str(x).split(' ')))\n",
    "df['name_word'].describe()\n",
    "# We notice that more than 75% of the projects names are less than 10 words, which is not unexpected  \n"
   ]
  },
  {
   "cell_type": "markdown",
   "metadata": {
    "id": "IJhDECAYnj_j"
   },
   "source": [
    "# Split the dataset into the training, validation, and testing sets"
   ]
  },
  {
   "cell_type": "code",
   "execution_count": 26,
   "metadata": {
    "colab": {
     "base_uri": "https://localhost:8080/",
     "height": 864
    },
    "id": "rw6m6hE7nj_k",
    "outputId": "5505d9a1-feb9-4a75-e7af-702ae95cdda8"
   },
   "outputs": [
    {
     "data": {
      "text/html": [
       "<div>\n",
       "<style scoped>\n",
       "    .dataframe tbody tr th:only-of-type {\n",
       "        vertical-align: middle;\n",
       "    }\n",
       "\n",
       "    .dataframe tbody tr th {\n",
       "        vertical-align: top;\n",
       "    }\n",
       "\n",
       "    .dataframe thead th {\n",
       "        text-align: right;\n",
       "    }\n",
       "</style>\n",
       "<table border=\"1\" class=\"dataframe\">\n",
       "  <thead>\n",
       "    <tr style=\"text-align: right;\">\n",
       "      <th></th>\n",
       "      <th>name</th>\n",
       "      <th>category</th>\n",
       "      <th>main_category</th>\n",
       "      <th>currency</th>\n",
       "      <th>state</th>\n",
       "      <th>country</th>\n",
       "      <th>usd_goal_real</th>\n",
       "      <th>days_active</th>\n",
       "      <th>name_len</th>\n",
       "      <th>name_contain_exclam</th>\n",
       "      <th>name_contain_question</th>\n",
       "      <th>name_is_title</th>\n",
       "      <th>name_is_upper</th>\n",
       "      <th>name_word</th>\n",
       "    </tr>\n",
       "  </thead>\n",
       "  <tbody>\n",
       "    <tr>\n",
       "      <th>375419</th>\n",
       "      <td>When Wining is cool</td>\n",
       "      <td>Product Design</td>\n",
       "      <td>Design</td>\n",
       "      <td>USD</td>\n",
       "      <td>0</td>\n",
       "      <td>US</td>\n",
       "      <td>20000.00</td>\n",
       "      <td>7</td>\n",
       "      <td>19</td>\n",
       "      <td>0</td>\n",
       "      <td>0</td>\n",
       "      <td>0</td>\n",
       "      <td>0</td>\n",
       "      <td>4</td>\n",
       "    </tr>\n",
       "    <tr>\n",
       "      <th>70448</th>\n",
       "      <td>JahLah jewellery</td>\n",
       "      <td>Printing</td>\n",
       "      <td>Crafts</td>\n",
       "      <td>NOK</td>\n",
       "      <td>0</td>\n",
       "      <td>NO</td>\n",
       "      <td>6341.46</td>\n",
       "      <td>20</td>\n",
       "      <td>16</td>\n",
       "      <td>0</td>\n",
       "      <td>0</td>\n",
       "      <td>0</td>\n",
       "      <td>0</td>\n",
       "      <td>2</td>\n",
       "    </tr>\n",
       "    <tr>\n",
       "      <th>78420</th>\n",
       "      <td>Journey to Cure - a documentary film about hea...</td>\n",
       "      <td>Documentary</td>\n",
       "      <td>Film &amp; Video</td>\n",
       "      <td>EUR</td>\n",
       "      <td>0</td>\n",
       "      <td>DE</td>\n",
       "      <td>32662.81</td>\n",
       "      <td>30</td>\n",
       "      <td>50</td>\n",
       "      <td>0</td>\n",
       "      <td>0</td>\n",
       "      <td>0</td>\n",
       "      <td>0</td>\n",
       "      <td>9</td>\n",
       "    </tr>\n",
       "    <tr>\n",
       "      <th>72317</th>\n",
       "      <td>Constructing the Building of the Future</td>\n",
       "      <td>Technology</td>\n",
       "      <td>Technology</td>\n",
       "      <td>USD</td>\n",
       "      <td>0</td>\n",
       "      <td>US</td>\n",
       "      <td>119000.00</td>\n",
       "      <td>30</td>\n",
       "      <td>39</td>\n",
       "      <td>0</td>\n",
       "      <td>0</td>\n",
       "      <td>0</td>\n",
       "      <td>0</td>\n",
       "      <td>6</td>\n",
       "    </tr>\n",
       "    <tr>\n",
       "      <th>57458</th>\n",
       "      <td>The Endless Summer Collection Exhibit</td>\n",
       "      <td>Documentary</td>\n",
       "      <td>Film &amp; Video</td>\n",
       "      <td>USD</td>\n",
       "      <td>0</td>\n",
       "      <td>US</td>\n",
       "      <td>15000.00</td>\n",
       "      <td>30</td>\n",
       "      <td>37</td>\n",
       "      <td>0</td>\n",
       "      <td>0</td>\n",
       "      <td>1</td>\n",
       "      <td>0</td>\n",
       "      <td>5</td>\n",
       "    </tr>\n",
       "    <tr>\n",
       "      <th>...</th>\n",
       "      <td>...</td>\n",
       "      <td>...</td>\n",
       "      <td>...</td>\n",
       "      <td>...</td>\n",
       "      <td>...</td>\n",
       "      <td>...</td>\n",
       "      <td>...</td>\n",
       "      <td>...</td>\n",
       "      <td>...</td>\n",
       "      <td>...</td>\n",
       "      <td>...</td>\n",
       "      <td>...</td>\n",
       "      <td>...</td>\n",
       "      <td>...</td>\n",
       "    </tr>\n",
       "    <tr>\n",
       "      <th>338467</th>\n",
       "      <td>Gluten Free Pizza Dough that doesn't SUCK</td>\n",
       "      <td>Food</td>\n",
       "      <td>Food</td>\n",
       "      <td>USD</td>\n",
       "      <td>0</td>\n",
       "      <td>US</td>\n",
       "      <td>19500.00</td>\n",
       "      <td>30</td>\n",
       "      <td>41</td>\n",
       "      <td>0</td>\n",
       "      <td>0</td>\n",
       "      <td>0</td>\n",
       "      <td>0</td>\n",
       "      <td>7</td>\n",
       "    </tr>\n",
       "    <tr>\n",
       "      <th>315682</th>\n",
       "      <td>Crowdfunder Match Game</td>\n",
       "      <td>Apps</td>\n",
       "      <td>Technology</td>\n",
       "      <td>USD</td>\n",
       "      <td>0</td>\n",
       "      <td>US</td>\n",
       "      <td>4750.00</td>\n",
       "      <td>30</td>\n",
       "      <td>22</td>\n",
       "      <td>0</td>\n",
       "      <td>0</td>\n",
       "      <td>1</td>\n",
       "      <td>0</td>\n",
       "      <td>3</td>\n",
       "    </tr>\n",
       "    <tr>\n",
       "      <th>117926</th>\n",
       "      <td>3D Battle Board for Star Trek Heroclix</td>\n",
       "      <td>Tabletop Games</td>\n",
       "      <td>Games</td>\n",
       "      <td>USD</td>\n",
       "      <td>0</td>\n",
       "      <td>US</td>\n",
       "      <td>10000.00</td>\n",
       "      <td>30</td>\n",
       "      <td>38</td>\n",
       "      <td>0</td>\n",
       "      <td>0</td>\n",
       "      <td>0</td>\n",
       "      <td>0</td>\n",
       "      <td>7</td>\n",
       "    </tr>\n",
       "    <tr>\n",
       "      <th>229044</th>\n",
       "      <td>Flat One - The World's Smartest Aquarium Lighting</td>\n",
       "      <td>Product Design</td>\n",
       "      <td>Design</td>\n",
       "      <td>USD</td>\n",
       "      <td>0</td>\n",
       "      <td>US</td>\n",
       "      <td>50000.00</td>\n",
       "      <td>45</td>\n",
       "      <td>49</td>\n",
       "      <td>0</td>\n",
       "      <td>0</td>\n",
       "      <td>0</td>\n",
       "      <td>0</td>\n",
       "      <td>8</td>\n",
       "    </tr>\n",
       "    <tr>\n",
       "      <th>351507</th>\n",
       "      <td>Help Josh Holt make an album!</td>\n",
       "      <td>Rock</td>\n",
       "      <td>Music</td>\n",
       "      <td>USD</td>\n",
       "      <td>0</td>\n",
       "      <td>US</td>\n",
       "      <td>4000.00</td>\n",
       "      <td>31</td>\n",
       "      <td>29</td>\n",
       "      <td>1</td>\n",
       "      <td>0</td>\n",
       "      <td>0</td>\n",
       "      <td>0</td>\n",
       "      <td>6</td>\n",
       "    </tr>\n",
       "  </tbody>\n",
       "</table>\n",
       "<p>153865 rows × 14 columns</p>\n",
       "</div>"
      ],
      "text/plain": [
       "                                                     name  ... name_word\n",
       "375419                                When Wining is cool  ...         4\n",
       "70448                                    JahLah jewellery  ...         2\n",
       "78420   Journey to Cure - a documentary film about hea...  ...         9\n",
       "72317             Constructing the Building of the Future  ...         6\n",
       "57458               The Endless Summer Collection Exhibit  ...         5\n",
       "...                                                   ...  ...       ...\n",
       "338467          Gluten Free Pizza Dough that doesn't SUCK  ...         7\n",
       "315682                             Crowdfunder Match Game  ...         3\n",
       "117926             3D Battle Board for Star Trek Heroclix  ...         7\n",
       "229044  Flat One - The World's Smartest Aquarium Lighting  ...         8\n",
       "351507                      Help Josh Holt make an album!  ...         6\n",
       "\n",
       "[153865 rows x 14 columns]"
      ]
     },
     "execution_count": 26,
     "metadata": {
      "tags": []
     },
     "output_type": "execute_result"
    }
   ],
   "source": [
    "from sklearn.model_selection import train_test_split\n",
    "\n",
    "xy_train, xy_valid_test = train_test_split(\n",
    "    df, test_size=0.5) # partition 50% of the data to be the training data\n",
    "\n",
    "xy_valid, xy_test = train_test_split(\n",
    "    xy_valid_test, test_size=0.6) # partition the 20% of the original data to be the validation data, and the final 30% of the original data to be the testing data\n",
    "# Note: No overlap between the training set with the validation/testing sets\n",
    "xy_train"
   ]
  },
  {
   "cell_type": "markdown",
   "metadata": {
    "id": "8niJXr2pnj_k"
   },
   "source": [
    "# Building the pipeline for the classification models"
   ]
  },
  {
   "cell_type": "code",
   "execution_count": 55,
   "metadata": {
    "colab": {
     "base_uri": "https://localhost:8080/",
     "height": 490
    },
    "id": "xt8Ty9j4nj_l",
    "outputId": "4a94b9a7-85cc-4a66-ad9a-483d4fd3424f"
   },
   "outputs": [
    {
     "data": {
      "text/html": [
       "<div>\n",
       "<style scoped>\n",
       "    .dataframe tbody tr th:only-of-type {\n",
       "        vertical-align: middle;\n",
       "    }\n",
       "\n",
       "    .dataframe tbody tr th {\n",
       "        vertical-align: top;\n",
       "    }\n",
       "\n",
       "    .dataframe thead th {\n",
       "        text-align: right;\n",
       "    }\n",
       "</style>\n",
       "<table border=\"1\" class=\"dataframe\">\n",
       "  <thead>\n",
       "    <tr style=\"text-align: right;\">\n",
       "      <th></th>\n",
       "      <th>usd_goal_real</th>\n",
       "      <th>days_active</th>\n",
       "      <th>name_len</th>\n",
       "      <th>name_contain_exclam</th>\n",
       "      <th>name_contain_question</th>\n",
       "      <th>name_is_title</th>\n",
       "      <th>name_is_upper</th>\n",
       "      <th>name_word</th>\n",
       "      <th>category</th>\n",
       "      <th>main_category</th>\n",
       "      <th>currency</th>\n",
       "      <th>country</th>\n",
       "    </tr>\n",
       "  </thead>\n",
       "  <tbody>\n",
       "    <tr>\n",
       "      <th>375419</th>\n",
       "      <td>20000.00</td>\n",
       "      <td>7</td>\n",
       "      <td>19</td>\n",
       "      <td>0</td>\n",
       "      <td>0</td>\n",
       "      <td>0</td>\n",
       "      <td>0</td>\n",
       "      <td>4</td>\n",
       "      <td>Product Design</td>\n",
       "      <td>Design</td>\n",
       "      <td>USD</td>\n",
       "      <td>US</td>\n",
       "    </tr>\n",
       "    <tr>\n",
       "      <th>70448</th>\n",
       "      <td>6341.46</td>\n",
       "      <td>20</td>\n",
       "      <td>16</td>\n",
       "      <td>0</td>\n",
       "      <td>0</td>\n",
       "      <td>0</td>\n",
       "      <td>0</td>\n",
       "      <td>2</td>\n",
       "      <td>Printing</td>\n",
       "      <td>Crafts</td>\n",
       "      <td>NOK</td>\n",
       "      <td>NO</td>\n",
       "    </tr>\n",
       "    <tr>\n",
       "      <th>78420</th>\n",
       "      <td>32662.81</td>\n",
       "      <td>30</td>\n",
       "      <td>50</td>\n",
       "      <td>0</td>\n",
       "      <td>0</td>\n",
       "      <td>0</td>\n",
       "      <td>0</td>\n",
       "      <td>9</td>\n",
       "      <td>Documentary</td>\n",
       "      <td>Film &amp; Video</td>\n",
       "      <td>EUR</td>\n",
       "      <td>DE</td>\n",
       "    </tr>\n",
       "    <tr>\n",
       "      <th>72317</th>\n",
       "      <td>119000.00</td>\n",
       "      <td>30</td>\n",
       "      <td>39</td>\n",
       "      <td>0</td>\n",
       "      <td>0</td>\n",
       "      <td>0</td>\n",
       "      <td>0</td>\n",
       "      <td>6</td>\n",
       "      <td>Technology</td>\n",
       "      <td>Technology</td>\n",
       "      <td>USD</td>\n",
       "      <td>US</td>\n",
       "    </tr>\n",
       "    <tr>\n",
       "      <th>57458</th>\n",
       "      <td>15000.00</td>\n",
       "      <td>30</td>\n",
       "      <td>37</td>\n",
       "      <td>0</td>\n",
       "      <td>0</td>\n",
       "      <td>1</td>\n",
       "      <td>0</td>\n",
       "      <td>5</td>\n",
       "      <td>Documentary</td>\n",
       "      <td>Film &amp; Video</td>\n",
       "      <td>USD</td>\n",
       "      <td>US</td>\n",
       "    </tr>\n",
       "    <tr>\n",
       "      <th>...</th>\n",
       "      <td>...</td>\n",
       "      <td>...</td>\n",
       "      <td>...</td>\n",
       "      <td>...</td>\n",
       "      <td>...</td>\n",
       "      <td>...</td>\n",
       "      <td>...</td>\n",
       "      <td>...</td>\n",
       "      <td>...</td>\n",
       "      <td>...</td>\n",
       "      <td>...</td>\n",
       "      <td>...</td>\n",
       "    </tr>\n",
       "    <tr>\n",
       "      <th>338467</th>\n",
       "      <td>19500.00</td>\n",
       "      <td>30</td>\n",
       "      <td>41</td>\n",
       "      <td>0</td>\n",
       "      <td>0</td>\n",
       "      <td>0</td>\n",
       "      <td>0</td>\n",
       "      <td>7</td>\n",
       "      <td>Food</td>\n",
       "      <td>Food</td>\n",
       "      <td>USD</td>\n",
       "      <td>US</td>\n",
       "    </tr>\n",
       "    <tr>\n",
       "      <th>315682</th>\n",
       "      <td>4750.00</td>\n",
       "      <td>30</td>\n",
       "      <td>22</td>\n",
       "      <td>0</td>\n",
       "      <td>0</td>\n",
       "      <td>1</td>\n",
       "      <td>0</td>\n",
       "      <td>3</td>\n",
       "      <td>Apps</td>\n",
       "      <td>Technology</td>\n",
       "      <td>USD</td>\n",
       "      <td>US</td>\n",
       "    </tr>\n",
       "    <tr>\n",
       "      <th>117926</th>\n",
       "      <td>10000.00</td>\n",
       "      <td>30</td>\n",
       "      <td>38</td>\n",
       "      <td>0</td>\n",
       "      <td>0</td>\n",
       "      <td>0</td>\n",
       "      <td>0</td>\n",
       "      <td>7</td>\n",
       "      <td>Tabletop Games</td>\n",
       "      <td>Games</td>\n",
       "      <td>USD</td>\n",
       "      <td>US</td>\n",
       "    </tr>\n",
       "    <tr>\n",
       "      <th>229044</th>\n",
       "      <td>50000.00</td>\n",
       "      <td>45</td>\n",
       "      <td>49</td>\n",
       "      <td>0</td>\n",
       "      <td>0</td>\n",
       "      <td>0</td>\n",
       "      <td>0</td>\n",
       "      <td>8</td>\n",
       "      <td>Product Design</td>\n",
       "      <td>Design</td>\n",
       "      <td>USD</td>\n",
       "      <td>US</td>\n",
       "    </tr>\n",
       "    <tr>\n",
       "      <th>351507</th>\n",
       "      <td>4000.00</td>\n",
       "      <td>31</td>\n",
       "      <td>29</td>\n",
       "      <td>1</td>\n",
       "      <td>0</td>\n",
       "      <td>0</td>\n",
       "      <td>0</td>\n",
       "      <td>6</td>\n",
       "      <td>Rock</td>\n",
       "      <td>Music</td>\n",
       "      <td>USD</td>\n",
       "      <td>US</td>\n",
       "    </tr>\n",
       "  </tbody>\n",
       "</table>\n",
       "<p>153865 rows × 12 columns</p>\n",
       "</div>"
      ],
      "text/plain": [
       "        usd_goal_real  days_active  name_len  ...  main_category  currency  country\n",
       "375419       20000.00            7        19  ...         Design       USD       US\n",
       "70448         6341.46           20        16  ...         Crafts       NOK       NO\n",
       "78420        32662.81           30        50  ...   Film & Video       EUR       DE\n",
       "72317       119000.00           30        39  ...     Technology       USD       US\n",
       "57458        15000.00           30        37  ...   Film & Video       USD       US\n",
       "...               ...          ...       ...  ...            ...       ...      ...\n",
       "338467       19500.00           30        41  ...           Food       USD       US\n",
       "315682        4750.00           30        22  ...     Technology       USD       US\n",
       "117926       10000.00           30        38  ...          Games       USD       US\n",
       "229044       50000.00           45        49  ...         Design       USD       US\n",
       "351507        4000.00           31        29  ...          Music       USD       US\n",
       "\n",
       "[153865 rows x 12 columns]"
      ]
     },
     "execution_count": 55,
     "metadata": {
      "tags": []
     },
     "output_type": "execute_result"
    }
   ],
   "source": [
    "# After generating new features from the 'name' feature, we can start building the pipeline for the training of the classification model \n",
    "import numpy as np\n",
    "from sklearn.datasets import fetch_openml\n",
    "from sklearn.compose import ColumnTransformer\n",
    "from sklearn.pipeline import Pipeline\n",
    "from sklearn.impute import SimpleImputer\n",
    "from sklearn.preprocessing import StandardScaler, Normalizer, OneHotEncoder,OrdinalEncoder\n",
    "from sklearn.linear_model import LogisticRegression\n",
    "from sklearn.model_selection import train_test_split, GridSearchCV\n",
    "from sklearn.experimental import enable_iterative_imputer\n",
    "from sklearn.impute import IterativeImputer\n",
    "from sklearn.svm import SVC\n",
    "from sklearn.model_selection import RandomizedSearchCV\n",
    "\n",
    "numeric_features = ['usd_goal_real', 'days_active', 'name_len', \n",
    "                    'name_contain_exclam', 'name_contain_question', 'name_is_title', 'name_is_upper',\n",
    "                   'name_word',]\n",
    "numeric_transformer = Pipeline(steps=[\n",
    "    ('iterative_imputer', IterativeImputer(max_iter=10, random_state=0)),\n",
    "   # ('scaler', StandardScaler()), # we might not need to standardize the data, standardization is not needed as there are not many numeric features \n",
    "])\n",
    "\n",
    "categorical_features = ['category', 'main_category', 'currency', 'country', \n",
    "                       ]\n",
    "categorical_transformer = Pipeline(steps=[\n",
    "    ('imputer', SimpleImputer(strategy='constant', fill_value='missing')), # replace all the missing values with the constant string 'missing' \n",
    "    # note the step names in different pipelines can be the same\n",
    "    ('onehot', OneHotEncoder(handle_unknown='ignore'))\n",
    "])\n",
    "\n",
    "# ColumnTransformer transforms each of the selected data column (it will transform all the selected attributes in training and testing sets)\n",
    "preprocessor = ColumnTransformer(  # apply categorical_transformer to categorical_features, and apply numeric_transformer to numeric_features\n",
    "    transformers=[    # define list of transformer we want  \n",
    "        ('num', numeric_transformer, numeric_features), # give a name 'num' to the numeric_transformer to pre-process the numeric_features\n",
    "        ('cat', categorical_transformer, categorical_features)]) # give a name 'cat' to the categorical_transformer to pre-process the categorical_features\n",
    "\n",
    "regr = Pipeline(steps=[('preprocessor', preprocessor), # the first step is do the pre-processing with using the pre-processor we defined above, and the pre-processor will process different features based on which type group it is in with using the corresponding transformer\n",
    "                     ('normalizer', Normalizer()),\n",
    "                       ('classifier', SVC( # the second step is choosing the search space (which model we will use)\n",
    "                          random_state=1, max_iter=5000))])\n",
    "\n",
    "# get the x,y training, validation, testing set\n",
    "x_train = xy_train[[*numeric_features, *categorical_features]]\n",
    "y_train = xy_train['state']\n",
    "\n",
    "x_valid = xy_valid[[*numeric_features, *categorical_features]]\n",
    "y_valid = xy_valid['state']\n",
    "\n",
    "x_test = xy_test[[*numeric_features, *categorical_features]]\n",
    "y_test = xy_test['state']\n",
    "\n",
    "# we can extract the 'name' from the dataframe, and use it train the RNN\n",
    "x_train"
   ]
  },
  {
   "cell_type": "markdown",
   "metadata": {
    "id": "gIy12SbUnj_m"
   },
   "source": [
    "# Train the SVM model first\n",
    "Incentive: Since the number of features in the original dataset is not large (though we have generated/added additional features from 'name'), we should use the Kernel functions to increase the feature space and make the dataset sparser. Thus, SVM should be a wise choice to try first as it implements Kernel functions conveniently and co-operates with them effectively "
   ]
  },
  {
   "cell_type": "code",
   "execution_count": 56,
   "metadata": {
    "colab": {
     "base_uri": "https://localhost:8080/"
    },
    "id": "crfN-IdVnj_m",
    "outputId": "c1da2ec9-15f8-4436-a224-b1443b87cb8c"
   },
   "outputs": [
    {
     "name": "stdout",
     "output_type": "stream",
     "text": [
      "Fitting 2 folds for each of 5 candidates, totalling 10 fits\n"
     ]
    },
    {
     "name": "stderr",
     "output_type": "stream",
     "text": [
      "[Parallel(n_jobs=-1)]: Using backend LokyBackend with 2 concurrent workers.\n",
      "[Parallel(n_jobs=-1)]: Done  10 out of  10 | elapsed:  5.0min finished\n"
     ]
    },
    {
     "name": "stdout",
     "output_type": "stream",
     "text": [
      "best score 0.6172878742772063\n"
     ]
    },
    {
     "name": "stderr",
     "output_type": "stream",
     "text": [
      "/usr/local/lib/python3.7/dist-packages/sklearn/svm/_base.py:231: ConvergenceWarning: Solver terminated early (max_iter=5000).  Consider pre-processing your data with StandardScaler or MinMaxScaler.\n",
      "  % self.max_iter, ConvergenceWarning)\n"
     ]
    }
   ],
   "source": [
    "param_svc = { # the range of hyper-parameters we want to search\n",
    "    'preprocessor__num__iterative_imputer__max_iter': range(10,20),\n",
    "    'classifier__kernel':['linear','poly', 'rbf', 'sigmoid','precomputed'], \n",
    "    'classifier__gamma': ['auto','scale'],\n",
    "    'classifier__degree': range(1,10), # set degree for poly kernel use only, the default value is 3\n",
    "    'classifier__coef0': range(0,10), #  only used in ‘poly’ and ‘sigmoid’, default value is 0,\n",
    "    'classifier__tol': [1e-4,1e-3], # default value is 1e-3\n",
    "    'classifier__decision_function_shape': ['ovr','ovo'], # default value is 'ovr', and 'ovo' cannot be used when is 'break_ties=True'\n",
    "#    'classifier__break_ties': [True, False], # This parameter can only be 'True' when decision_function_shape='ovr', so the default value is 'False'. However, tuning this parameter is redundant as 'False' turns out to be the best parameter setting for 'break_ties' \n",
    "    'classifier__cache_size': [200,300], # Specify the size of the kernel cache size (MB), the default value is 200\n",
    "    'normalizer__norm': ['l1','l2','max'],\n",
    "}\n",
    "\n",
    "random_search_svc = RandomizedSearchCV( # pass the model pipeline and the ranges of (hyper-)parameters we want to search as arguments to RandomizedSearchCV()\n",
    "    regr, param_svc, cv=2, verbose=3, n_jobs=-1,  # cv=5 means we have 5 folds for the CV, n_jobs = -1 means using all CPU processors\n",
    "    n_iter=5,random_state=1, \n",
    "    scoring='f1_micro') # we choose 'f1_micro' to be our primary scoring\n",
    "\n",
    "random_search_svc.fit(x_train, y_train)\n",
    "print('best score {}'.format(random_search_svc.best_score_))\n"
   ]
  },
  {
   "cell_type": "code",
   "execution_count": 57,
   "metadata": {
    "colab": {
     "base_uri": "https://localhost:8080/"
    },
    "id": "MFPhB3JQnj_n",
    "outputId": "9d4f0ff1-0419-4684-99b9-f1993e4b991b"
   },
   "outputs": [
    {
     "data": {
      "text/plain": [
       "{'classifier__cache_size': 300,\n",
       " 'classifier__coef0': 1,\n",
       " 'classifier__decision_function_shape': 'ovo',\n",
       " 'classifier__degree': 7,\n",
       " 'classifier__gamma': 'auto',\n",
       " 'classifier__kernel': 'sigmoid',\n",
       " 'classifier__tol': 0.001,\n",
       " 'normalizer__norm': 'max',\n",
       " 'preprocessor__num__iterative_imputer__max_iter': 17}"
      ]
     },
     "execution_count": 57,
     "metadata": {
      "tags": []
     },
     "output_type": "execute_result"
    }
   ],
   "source": [
    "random_search_svc.best_params_"
   ]
  },
  {
   "cell_type": "code",
   "execution_count": 58,
   "metadata": {
    "colab": {
     "base_uri": "https://localhost:8080/"
    },
    "id": "KBYMqQ5Nnj_p",
    "outputId": "44bdd664-b6f7-4125-e65c-cf4d200a4463"
   },
   "outputs": [
    {
     "name": "stdout",
     "output_type": "stream",
     "text": [
      "SVM validation auc:  0.6144603163862749\n",
      "SVM validation f1:   0.6128424268027167\n"
     ]
    }
   ],
   "source": [
    "# Run the model on the validation set to see the performance for tuning\n",
    "from sklearn.metrics import roc_auc_score, f1_score\n",
    "y_pred_valid = random_search_svc.best_estimator_.predict(x_valid)\n",
    "\n",
    "print('SVM validation auc: ', roc_auc_score(y_valid, y_pred_valid))\n",
    "print('SVM validation f1:  ', f1_score(y_valid, y_pred_valid, average='micro'))\n"
   ]
  },
  {
   "cell_type": "code",
   "execution_count": 59,
   "metadata": {
    "colab": {
     "base_uri": "https://localhost:8080/"
    },
    "id": "wlkqOaMknj_q",
    "outputId": "268e31bf-1f70-4d0c-a1f3-395ead0d9c97"
   },
   "outputs": [
    {
     "name": "stdout",
     "output_type": "stream",
     "text": [
      "SVM testing auc:  0.6170242598381511\n",
      "SVM testing f1:   0.6154354419410745\n"
     ]
    }
   ],
   "source": [
    "# Run the model on the testing set \n",
    "from sklearn.metrics import roc_auc_score, f1_score\n",
    "y_pred_test_svc = random_search_svc.best_estimator_.predict(x_test)\n",
    "\n",
    "print('SVM testing auc: ', roc_auc_score(y_test, y_pred_test_svc))\n",
    "print('SVM testing f1:  ', f1_score(y_test, y_pred_test_svc, average='micro'))\n",
    "\n",
    "# As we can see below, SVM does not perform very well for this problem (Accoridng to the testing auc score, the prediction accuracy is slightly better than the random guessing)\n"
   ]
  },
  {
   "cell_type": "markdown",
   "metadata": {
    "id": "SieUVK7Anj_r"
   },
   "source": [
    "# Train a Gradient Boost model and a XGBoosting model \n",
    "Incentive: These 2 models empirically perform well for usual binary classification task. And these 2 models can be combined with the results/predictions generated from the SVM and the bidirectional RNN (Implementation of the Ensemble method) to improve the accuracy of the final output/prediction"
   ]
  },
  {
   "cell_type": "code",
   "execution_count": 60,
   "metadata": {
    "colab": {
     "base_uri": "https://localhost:8080/"
    },
    "id": "-3zYgMG0nj_r",
    "outputId": "5d60e460-49c3-4982-cfc1-1c33c3085294"
   },
   "outputs": [
    {
     "name": "stdout",
     "output_type": "stream",
     "text": [
      "Fitting 5 folds for each of 1 candidates, totalling 5 fits\n"
     ]
    },
    {
     "name": "stderr",
     "output_type": "stream",
     "text": [
      "[Parallel(n_jobs=-1)]: Using backend LokyBackend with 2 concurrent workers.\n",
      "[Parallel(n_jobs=-1)]: Done   5 out of   5 | elapsed:  4.6min finished\n"
     ]
    },
    {
     "name": "stdout",
     "output_type": "stream",
     "text": [
      "best score 0.7109739056965522\n"
     ]
    }
   ],
   "source": [
    "from sklearn.ensemble import RandomForestClassifier, GradientBoostingClassifier\n",
    "regr = Pipeline(steps=[('preprocessor', preprocessor), # the first step is do the pre-processing with using the pre-processor we defined above, and the pre-processor will process different features based on which type group it is in with using the corresponding transformer\n",
    "#                     ('normalizer', Normalizer()), # the second step is to integrate regularization into the model building process to avoid overfitting \n",
    "                       ('classifier', GradientBoostingClassifier( # the third step is choosing the model architecture we will use\n",
    "                         n_estimators=500,\n",
    "                         ))])\n",
    "param_gbc = {\n",
    "    'preprocessor__num__iterative_imputer__max_iter': range(10,20),\n",
    "    'classifier__max_depth': range(3,20), # default value for 'max_depth' is 3 \n",
    "    'classifier__n_estimators': range(500,600), # default value for 'n_estimators' is 100, but Gradient boosting is fairly robust to over-fitting so a large number usually results in better performance\n",
    "}\n",
    "\n",
    "random_search_gbc = RandomizedSearchCV( # pass the model pipeline and the ranges of (hyper-)parameters we want to search as arguments to RandomizedSearchCV()\n",
    "    regr, param_gbc, cv=None, verbose=1, n_jobs=-1,  # cv=5 means we have 5 folds for the CV, n_jobs = -1 means using all CPU processors\n",
    "    n_iter=1,random_state=1, \n",
    "    scoring='f1_micro') \n",
    "\n",
    "random_search_gbc.fit(x_train, y_train)\n",
    "print('best score {}'.format(random_search_gbc.best_score_))\n"
   ]
  },
  {
   "cell_type": "code",
   "execution_count": 61,
   "metadata": {
    "colab": {
     "base_uri": "https://localhost:8080/"
    },
    "id": "5yX7pXaBnj_s",
    "outputId": "8bffcab8-abfe-4bb3-843e-d533a62c7386"
   },
   "outputs": [
    {
     "data": {
      "text/plain": [
       "{'classifier__max_depth': 3,\n",
       " 'classifier__n_estimators': 523,\n",
       " 'preprocessor__num__iterative_imputer__max_iter': 15}"
      ]
     },
     "execution_count": 61,
     "metadata": {
      "tags": []
     },
     "output_type": "execute_result"
    }
   ],
   "source": [
    "random_search_gbc.best_params_"
   ]
  },
  {
   "cell_type": "code",
   "execution_count": 62,
   "metadata": {
    "colab": {
     "base_uri": "https://localhost:8080/"
    },
    "id": "B1Ytgvg4nj_t",
    "outputId": "b62f7ca2-beed-4f2a-8472-e37ee34c03e6"
   },
   "outputs": [
    {
     "name": "stdout",
     "output_type": "stream",
     "text": [
      "Gradient Boosting validation auc:  0.6878830836174581\n",
      "Gradient Boosting validation f1:   0.709680564130894\n"
     ]
    }
   ],
   "source": [
    "# Run the model on the validation set to see the performance for tuning\n",
    "from sklearn.metrics import roc_auc_score, f1_score\n",
    "y_pred_valid = random_search_gbc.best_estimator_.predict(x_valid)\n",
    "\n",
    "print('Gradient Boosting validation auc: ', roc_auc_score(y_valid, y_pred_valid))\n",
    "print('Gradient Boosting validation f1:  ', f1_score(y_valid, y_pred_valid, average='micro'))\n"
   ]
  },
  {
   "cell_type": "code",
   "execution_count": 63,
   "metadata": {
    "colab": {
     "base_uri": "https://localhost:8080/"
    },
    "id": "bu_-0jnKnj_t",
    "outputId": "c93b1407-48a6-467e-dfd4-a671b0c1350f"
   },
   "outputs": [
    {
     "name": "stdout",
     "output_type": "stream",
     "text": [
      "Gradient Boosting testing auc:  0.6864682307415416\n",
      "Gradient Boosting testing f1:   0.7095320623916811\n"
     ]
    }
   ],
   "source": [
    "# Run the model on the testing set \n",
    "from sklearn.metrics import roc_auc_score, f1_score\n",
    "y_pred_test_gbc = random_search_gbc.best_estimator_.predict(x_test)\n",
    "\n",
    "\n",
    "print('Gradient Boosting testing auc: ', roc_auc_score(y_test, y_pred_test_gbc))\n",
    "print('Gradient Boosting testing f1:  ', f1_score(y_test, y_pred_test_gbc, average='micro'))\n",
    "\n"
   ]
  },
  {
   "cell_type": "markdown",
   "metadata": {
    "id": "Ou6fJVMInj_u"
   },
   "source": [
    "## Training of the XGBoosting model"
   ]
  },
  {
   "cell_type": "code",
   "execution_count": 64,
   "metadata": {
    "colab": {
     "base_uri": "https://localhost:8080/"
    },
    "id": "y_tfX-ulnj_u",
    "outputId": "3e1316ec-87d5-4948-ab8c-ef4585e9ceef"
   },
   "outputs": [
    {
     "name": "stdout",
     "output_type": "stream",
     "text": [
      "Fitting 5 folds for each of 1 candidates, totalling 5 fits\n"
     ]
    },
    {
     "name": "stderr",
     "output_type": "stream",
     "text": [
      "[Parallel(n_jobs=-1)]: Using backend LokyBackend with 2 concurrent workers.\n",
      "[Parallel(n_jobs=-1)]: Done   5 out of   5 | elapsed: 11.6min finished\n"
     ]
    },
    {
     "name": "stdout",
     "output_type": "stream",
     "text": [
      "best score 0.7116043284697624\n"
     ]
    }
   ],
   "source": [
    "from xgboost.sklearn import XGBClassifier\n",
    "regr = Pipeline(steps=[('preprocessor', preprocessor), # the first step is do the pre-processing with using the pre-processor we defined above, and the pre-processor will process different features based on which type group it is in with using the corresponding transformer\n",
    "#                     ('normalizer', Normalizer()), # the second step is to integrate regularization into the model building process to avoid overfitting \n",
    "                       ('classifier', XGBClassifier( # the third step is choosing the model architecture we will use\n",
    "                         seed=1, ))])\n",
    "param_random = { # the range of hyper-parameters we want to search\n",
    "    'preprocessor__num__iterative_imputer__max_iter': range(10,20),# The default value of 'max_iter' is 10, \n",
    "    'classifier__objective': ['binary:logistic', 'binary:hinge'], # hinge loss for binary classification makes predictions of 0 or 1, rather than producing probabilities.\n",
    "    'classifier__max_depth': range(6,30), # The default value is 6, so we make it more flexible by extending the max_depth from the default value 6 to 30\n",
    "    'classifier__n_estimators': range(500,600), # The default value is 100, so we make it more flexible by extending the number of estimators from the default value 100 to the range(200,400)\n",
    "#    'classifier__colsample_bynode': np.arange(0.0, 1.1, 0.1), # the ranges of colsample_bynode, colsample_bylevel, and colsample_bytree are all (0,1], so we use np.arange() rather than range()\n",
    "#    'classifier__colsample_bytree': np.arange(0.0, 1.1, 0.1), # np.arange(0.0, 1.1, 0.1) gives a array of float values from 0.0 to 1.0 with incrementing each element by 0.1 \n",
    "#    'classifier__colsample_bylevel': np.arange(0.0, 1.1, 0.1), \n",
    "    'classifier__min_child_weight': range(0,10), # the larger the min_child_weight(default value is 1) and max_delta_step(default value is 0) values are, the more conservative the algorithm will be\n",
    "#    'classifier__max_delta_step': range(0,10), # However, tuning the 'max_delta_step' tends to deteriorate the model's performance\n",
    "#    'classifier__eta': np.arange(0.01,0.2,0.01), # adjust the learning rate, but the performance of the model is worse when we tuning the learning rate in a range that is above the default value 0.3, such as (0.4,1.0,0.1)\n",
    "#    'classifier__scale_pos_weight': range(1,10), # we adjust the balance of positive and negative weights, the default value is 1, but tuning this parameter is not recommended by the system, and it did not improve the model's performance too\n",
    "    'classifier__gamma': range(0,10), # default value of gamma is 0, and the larger gamma is, the more conservative the algorithm will be\n",
    "#    'classifier__tree_method': ['auto','hist'], # the default value is 'auto', and it turns out that the default value will yield the best performance of the model in most of the situations \n",
    "#    'normalizer__norm': ['max'], # ,'l1','l2'], 'max' turns out to be the best settting for the regularization strategy, however, it later turns out that tuning the model's regularization parameter will be better than tuning this Normalizer in the model's pipeline\n",
    "    'classifier__lambda': range(1,6), # L2 regularization term on weights, the default value is 1, and there is no need to extend further the range(1,6) as the best setting for the 'lambda' is always below 3\n",
    "    'classifier__alpha': range(0,6), # L1 regularization term on weights, the default value is 0, and there is no need to extend further the range(0,6) as the best setting for the 'alpha' is always below 3\n",
    "}\n",
    "\n",
    "random_search_xgb = RandomizedSearchCV( # pass the model pipeline and the ranges of (hyper-)parameters we want to search as arguments to RandomizedSearchCV()\n",
    "    regr, param_random, cv=5, verbose=1, n_jobs=-1,  # cv=5 means we have 5 folds for the CV, n_jobs = -1 means using all CPU processors\n",
    "    n_iter=1,random_state=1, \n",
    "    scoring='f1_micro') \n",
    "\n",
    "random_search_xgb.fit(x_train, y_train)\n",
    "print('best score {}'.format(random_search_xgb.best_score_))\n"
   ]
  },
  {
   "cell_type": "code",
   "execution_count": 65,
   "metadata": {
    "colab": {
     "base_uri": "https://localhost:8080/"
    },
    "id": "YgUyZu6Mnj_v",
    "outputId": "6086baad-6f37-4db3-e7b2-342f9936855a"
   },
   "outputs": [
    {
     "data": {
      "text/plain": [
       "{'classifier__alpha': 5,\n",
       " 'classifier__gamma': 8,\n",
       " 'classifier__lambda': 4,\n",
       " 'classifier__max_depth': 23,\n",
       " 'classifier__min_child_weight': 0,\n",
       " 'classifier__n_estimators': 505,\n",
       " 'classifier__objective': 'binary:logistic',\n",
       " 'preprocessor__num__iterative_imputer__max_iter': 18}"
      ]
     },
     "execution_count": 65,
     "metadata": {
      "tags": []
     },
     "output_type": "execute_result"
    }
   ],
   "source": [
    "# Get feedbacks, see what are the best (hyper-)parameter settings in the search space we specified above\n",
    "random_search_xgb.best_params_"
   ]
  },
  {
   "cell_type": "code",
   "execution_count": 66,
   "metadata": {
    "colab": {
     "base_uri": "https://localhost:8080/"
    },
    "id": "WhSbvuSynj_w",
    "outputId": "cf72e196-5db9-48f3-f018-e0402f34ac6c"
   },
   "outputs": [
    {
     "name": "stdout",
     "output_type": "stream",
     "text": [
      "XGBoosting validation auc:  0.6886673963818281\n",
      "XGBoosting validation f1:   0.7090793877749976\n"
     ]
    }
   ],
   "source": [
    "# Run the model on the validation set to see the performance for tuning\n",
    "from sklearn.metrics import roc_auc_score, f1_score\n",
    "y_pred_valid = random_search_xgb.best_estimator_.predict(x_valid)\n",
    "\n",
    "\n",
    "print('XGBoosting validation auc: ', roc_auc_score(y_valid, y_pred_valid))\n",
    "print('XGBoosting validation f1:  ', f1_score(y_valid, y_pred_valid, average='micro'))\n"
   ]
  },
  {
   "cell_type": "code",
   "execution_count": 67,
   "metadata": {
    "colab": {
     "base_uri": "https://localhost:8080/"
    },
    "id": "QnVWueVznj_w",
    "outputId": "dc1bcb8c-741f-4a1a-f03d-213234ea2f24"
   },
   "outputs": [
    {
     "name": "stdout",
     "output_type": "stream",
     "text": [
      "XGBoosting testing auc:  0.6889854818365053\n",
      "XGBoosting testing f1:   0.710409445407279\n"
     ]
    }
   ],
   "source": [
    "# Run the model on the testing set \n",
    "from sklearn.metrics import roc_auc_score, f1_score\n",
    "y_pred_test_xgb = random_search_xgb.best_estimator_.predict(x_test)\n",
    "\n",
    "\n",
    "print('XGBoosting testing auc: ', roc_auc_score(y_test, y_pred_test_xgb))\n",
    "print('XGBoosting testing f1:  ', f1_score(y_test, y_pred_test_xgb, average='micro'))\n",
    "\n",
    "# As we can see below, for the 2 chosen evaluation metrics (f1 score and AUC), both of the XGBoosting model and the Gradient Boosting model have achieved scores around 70% \n",
    "# which can be considered as moderately accurate due to the nature of the problem (the information/features about each project are limited and are quite general, which creates more difficulties to the model to capture the underlying patterns/trends within the data to distinguish the successful crowdfunding projects from those failed ones)\n",
    "# Moreover, from a logical perspective, a model with 90% accuracy rate or higher for this problem is logically impossible to gain, because if such model exists, then that means that the outcome of any Kickstarter crowdfunding activity can be adequately accurately predicted before being launched, which is likely to be unrealistic as the outcome of a crowdfunding activity should be based on a substantial number of unforeseen factors as well \n",
    "# For example, if a project related to 'face mask improvement' is introduced before 'Covid-19', its crowdfunding outcome might be predicted as 'fail' by the model, but the outcome will turn into 'successful' after the outbreak of 'COVID-19' due to the high demand for quality masks. However, based on the given training dataset of the model, the real-time information is not included in the model's training space, meaning that the model should not alternate its prediction.  \n",
    "# Thus, the unlimited additional information outside the scope of the model should affect the outcomes of crowfunding activities substantially, indicating that a very reliable model for this problem should be technically impossible to acquire\n",
    "# In addition, the XGBoosting model shares a very similar performance with the Gradient Boosting model (and both of them perform much better than the SVM model),\n"
   ]
  },
  {
   "cell_type": "code",
   "execution_count": 116,
   "metadata": {
    "id": "edHtK0lNnj_x"
   },
   "outputs": [],
   "source": [
    "\n"
   ]
  },
  {
   "cell_type": "markdown",
   "metadata": {
    "id": "VZB37M1xnj_x"
   },
   "source": [
    "# Train a Bidirectional RNN model\n",
    "Incentive: This is inspired by a data scientist on Kaggle who attempted to use the natural language processing (BoW model) to predict if a project crowdfunding will be successful or not. Since we can try to use natural language processing to perform the prediction, then a RNN model should be considered as a better fit than BoW model to perform such prediction. In addition, from logical perspective, all the backers should be attracted by the names of the project initially, and once they are hooked by the names of the projects, they have the motivation to look more into the posting of the project and invest some money if they are really interested in. Thus, there should be certain relationships between the names of the projects and the success of the project crowdfunding"
   ]
  },
  {
   "cell_type": "code",
   "execution_count": 39,
   "metadata": {
    "id": "ocLSmf4Znj_y"
   },
   "outputs": [],
   "source": [
    "from tensorflow.keras.preprocessing.text import Tokenizer\n",
    "from tensorflow.keras.preprocessing.sequence import pad_sequences\n",
    "from sklearn.model_selection import train_test_split\n",
    "vocab_size = 5000 # set vocabulary size to 5000\n",
    "max_len = 35     # change max_len for each 'name' value to be 35 (around 50% of project names are below this length)\n",
    "\n",
    "tokenizer = Tokenizer(num_words=vocab_size,) \n",
    "tokenizer.fit_on_texts(xy_train.name) # only train the tokenizer on the training set 'name'\n",
    "\n",
    "def _preprocess(texts):\n",
    "  return pad_sequences(\n",
    "      tokenizer.texts_to_sequences(texts),\n",
    "      maxlen=max_len, \n",
    "      padding='post'\n",
    "  )\n",
    "x_train = _preprocess(xy_train.name)\n",
    "y_train = xy_train.state\n",
    "\n",
    "x_valid = _preprocess(xy_valid.name)\n",
    "y_valid = xy_valid.state \n",
    "\n",
    "x_test = _preprocess(xy_test.name)\n",
    "y_test = xy_test.state \n",
    "\n",
    "# tokenizer.get_config()"
   ]
  },
  {
   "cell_type": "code",
   "execution_count": 47,
   "metadata": {
    "colab": {
     "base_uri": "https://localhost:8080/"
    },
    "id": "Jxiuu_J9nj_z",
    "outputId": "6fd088c9-6d2b-4eee-927f-c786afb0fac7"
   },
   "outputs": [
    {
     "name": "stdout",
     "output_type": "stream",
     "text": [
      "Model: \"sequential_3\"\n",
      "_________________________________________________________________\n",
      "Layer (type)                 Output Shape              Param #   \n",
      "=================================================================\n",
      "embedding_3 (Embedding)      (None, 35, 100)           500000    \n",
      "_________________________________________________________________\n",
      "bidirectional_9 (Bidirection (None, 35, 200)           160800    \n",
      "_________________________________________________________________\n",
      "bidirectional_10 (Bidirectio (None, 35, 200)           240800    \n",
      "_________________________________________________________________\n",
      "bidirectional_11 (Bidirectio (None, 200)               240800    \n",
      "_________________________________________________________________\n",
      "dense_3 (Dense)              (None, 1)                 201       \n",
      "=================================================================\n",
      "Total params: 1,142,601\n",
      "Trainable params: 1,142,601\n",
      "Non-trainable params: 0\n",
      "_________________________________________________________________\n"
     ]
    }
   ],
   "source": [
    "from __future__ import absolute_import, division, print_function, unicode_literals\n",
    "import collections\n",
    "import matplotlib.pyplot as plt\n",
    "import numpy as np\n",
    "import tensorflow as tf\n",
    "from tensorflow import keras\n",
    "from tensorflow.keras.layers import Dense\n",
    "from keras import backend as K\n",
    "\n",
    "import tensorflow as tf\n",
    "from tensorflow.keras.optimizers import Adam\n",
    "from tensorflow.keras.layers import GRU, Embedding, Dense, LSTM, Bidirectional,Dropout, TimeDistributed\n",
    "from tensorflow.keras.models import Sequential\n",
    "\n",
    "# Note: I redefine the f1 metric function in this cell of code in case I (or the TA) jump to run the GRU model code directly\n",
    "# since Keras 2.0 metrics f1, precision, and recall have been removed, we have to code the f1 metric function for the evaluation of the model performance \n",
    "# Below is a custom f1 metric function retrieved from https://stackoverflow.com/questions/43547402/how-to-calculate-f1-macro-in-keras:\n",
    "def f1(y_true, y_pred):\n",
    "    def recall(y_true, y_pred):\n",
    "        \"\"\"Recall metric.\n",
    "\n",
    "        Only computes a batch-wise average of recall.\n",
    "\n",
    "        Computes the recall, a metric for multi-label classification of\n",
    "        how many relevant items are selected.\n",
    "        \"\"\"\n",
    "        true_positives = K.sum(K.round(K.clip(y_true * y_pred, 0, 1)))\n",
    "        possible_positives = K.sum(K.round(K.clip(y_true, 0, 1)))\n",
    "        recall = true_positives / (possible_positives + K.epsilon())\n",
    "        return recall\n",
    "\n",
    "    def precision(y_true, y_pred):\n",
    "        \"\"\"Precision metric.\n",
    "\n",
    "        Only computes a batch-wise average of precision.\n",
    "\n",
    "        Computes the precision, a metric for multi-label classification of\n",
    "        how many selected items are relevant.\n",
    "        \"\"\"\n",
    "        true_positives = K.sum(K.round(K.clip(y_true * y_pred, 0, 1)))\n",
    "        predicted_positives = K.sum(K.round(K.clip(y_pred, 0, 1)))\n",
    "        precision = true_positives / (predicted_positives + K.epsilon())\n",
    "        return precision\n",
    "    precision = precision(y_true, y_pred)\n",
    "    recall = recall(y_true, y_pred)\n",
    "    return 2*((precision*recall)/(precision+recall+K.epsilon()))\n",
    "\n",
    "\n",
    "# Creates the Bidirectional RNN model\n",
    "bidir = Sequential()\n",
    "bidir.add(Embedding(input_dim = vocab_size, output_dim = 100, input_length=max_len))\n",
    "bidir.add(Bidirectional(LSTM(units=100,return_sequences=True)))\n",
    "bidir.add(Bidirectional(LSTM(units=100,return_sequences=True)))\n",
    "bidir.add(Bidirectional(LSTM(units=100,return_sequences=False)))\n",
    "bidir.add(Dense(units=1, activation='sigmoid')) # the output layer of the bidirectional NN model\n",
    "bidir.compile(\n",
    "    optimizer=  tf.keras.optimizers.Adam(clipnorm=None),\n",
    "    #tf.keras.optimizers.Adam(clipnorm=None),#tf.keras.optimizers.Adadelta(clipnorm=None),  #tf.keras.optimizers.SGD(lr=0.01, decay=1e-7, momentum=0.9, nesterov=False),\n",
    "    # start with 'clipnorm=None', try change optimizer to 'tf.keras.optimizers.Adadelta(clipnorm=None)'\n",
    "    loss='binary_crossentropy',\n",
    "    metrics=['AUC', f1, 'BinaryAccuracy'])\n",
    "bidir.summary()"
   ]
  },
  {
   "cell_type": "code",
   "execution_count": 48,
   "metadata": {
    "colab": {
     "base_uri": "https://localhost:8080/"
    },
    "id": "LT4gwAxFnj_0",
    "outputId": "0856a82a-9731-4fbb-c546-ad18f9a00abb"
   },
   "outputs": [
    {
     "name": "stdout",
     "output_type": "stream",
     "text": [
      "Epoch 1/15\n",
      "151/151 [==============================] - 24s 112ms/step - loss: 0.6598 - auc: 0.5963 - f1: 0.2269 - binary_accuracy: 0.6112 - val_loss: 0.6306 - val_auc: 0.6764 - val_f1: 0.4899 - val_binary_accuracy: 0.6470\n",
      "Epoch 2/15\n",
      "151/151 [==============================] - 15s 101ms/step - loss: 0.6135 - auc: 0.7036 - f1: 0.5325 - binary_accuracy: 0.6649 - val_loss: 0.6311 - val_auc: 0.6794 - val_f1: 0.4890 - val_binary_accuracy: 0.6502\n",
      "Epoch 3/15\n",
      "151/151 [==============================] - 15s 102ms/step - loss: 0.6033 - auc: 0.7182 - f1: 0.5518 - binary_accuracy: 0.6753 - val_loss: 0.6311 - val_auc: 0.6783 - val_f1: 0.5284 - val_binary_accuracy: 0.6473\n",
      "Epoch 4/15\n",
      "151/151 [==============================] - 16s 103ms/step - loss: 0.5957 - auc: 0.7288 - f1: 0.5685 - binary_accuracy: 0.6806 - val_loss: 0.6320 - val_auc: 0.6757 - val_f1: 0.5162 - val_binary_accuracy: 0.6468\n",
      "Epoch 5/15\n",
      "151/151 [==============================] - 16s 105ms/step - loss: 0.5895 - auc: 0.7363 - f1: 0.5740 - binary_accuracy: 0.6828 - val_loss: 0.6400 - val_auc: 0.6721 - val_f1: 0.5155 - val_binary_accuracy: 0.6442\n",
      "Epoch 6/15\n",
      "151/151 [==============================] - 16s 105ms/step - loss: 0.5807 - auc: 0.7440 - f1: 0.5808 - binary_accuracy: 0.6885 - val_loss: 0.6462 - val_auc: 0.6706 - val_f1: 0.5062 - val_binary_accuracy: 0.6440\n",
      "Epoch 7/15\n",
      "151/151 [==============================] - 16s 106ms/step - loss: 0.5726 - auc: 0.7533 - f1: 0.5899 - binary_accuracy: 0.6930 - val_loss: 0.6512 - val_auc: 0.6675 - val_f1: 0.5182 - val_binary_accuracy: 0.6404\n",
      "Epoch 8/15\n",
      "151/151 [==============================] - 16s 106ms/step - loss: 0.5632 - auc: 0.7607 - f1: 0.5908 - binary_accuracy: 0.6983 - val_loss: 0.6602 - val_auc: 0.6622 - val_f1: 0.5200 - val_binary_accuracy: 0.6377\n",
      "Epoch 9/15\n",
      "151/151 [==============================] - 16s 106ms/step - loss: 0.5525 - auc: 0.7709 - f1: 0.5990 - binary_accuracy: 0.7038 - val_loss: 0.6599 - val_auc: 0.6547 - val_f1: 0.5024 - val_binary_accuracy: 0.6340\n",
      "Epoch 10/15\n",
      "151/151 [==============================] - 16s 105ms/step - loss: 0.5441 - auc: 0.7775 - f1: 0.6058 - binary_accuracy: 0.7073 - val_loss: 0.6891 - val_auc: 0.6537 - val_f1: 0.5015 - val_binary_accuracy: 0.6342\n",
      "Epoch 11/15\n",
      "151/151 [==============================] - 16s 105ms/step - loss: 0.5312 - auc: 0.7877 - f1: 0.6114 - binary_accuracy: 0.7138 - val_loss: 0.7053 - val_auc: 0.6476 - val_f1: 0.4840 - val_binary_accuracy: 0.6315\n",
      "Epoch 12/15\n",
      "151/151 [==============================] - 16s 105ms/step - loss: 0.5193 - auc: 0.7975 - f1: 0.6215 - binary_accuracy: 0.7208 - val_loss: 0.7329 - val_auc: 0.6423 - val_f1: 0.5092 - val_binary_accuracy: 0.6248\n",
      "Epoch 13/15\n",
      "151/151 [==============================] - 16s 106ms/step - loss: 0.5103 - auc: 0.8042 - f1: 0.6247 - binary_accuracy: 0.7254 - val_loss: 0.7667 - val_auc: 0.6399 - val_f1: 0.4939 - val_binary_accuracy: 0.6262\n",
      "Epoch 14/15\n",
      "151/151 [==============================] - 16s 106ms/step - loss: 0.4961 - auc: 0.8145 - f1: 0.6332 - binary_accuracy: 0.7314 - val_loss: 0.7856 - val_auc: 0.6349 - val_f1: 0.4712 - val_binary_accuracy: 0.6244\n",
      "Epoch 15/15\n",
      "151/151 [==============================] - 16s 106ms/step - loss: 0.4819 - auc: 0.8257 - f1: 0.6452 - binary_accuracy: 0.7402 - val_loss: 0.8550 - val_auc: 0.6326 - val_f1: 0.5039 - val_binary_accuracy: 0.6232\n"
     ]
    },
    {
     "data": {
      "text/plain": [
       "<tensorflow.python.training.tracking.util.CheckpointLoadStatus at 0x7f3ce51e3310>"
      ]
     },
     "execution_count": 48,
     "metadata": {
      "tags": []
     },
     "output_type": "execute_result"
    }
   ],
   "source": [
    "# use Callback() method to save the Keras model or the model weights that yield the highest validation f1\n",
    "checkpoint_filepath = '/checkpoint' # set the path to save the check_point model parameters\n",
    "model_checkpoint_callback = tf.keras.callbacks.ModelCheckpoint( # define the Callback() function\n",
    "    filepath=checkpoint_filepath,\n",
    "    save_weights_only=True,\n",
    "    monitor='val_f1', \n",
    "    mode='max',\n",
    "    save_best_only=True)\n",
    "\n",
    "history = bidir.fit(x_train,\n",
    "                    y_train,\n",
    "                    epochs=15,\n",
    "                    batch_size=1024,\n",
    "                    validation_data=(x_valid, y_valid),\n",
    "                    verbose=1,\n",
    "                    callbacks=[model_checkpoint_callback],  # implement Callback() in conjunction with '.fit()' to save a model or weights (in a checkpoint file) that yield the highest validation f1 score\n",
    "                    # class_weight={0: 2.0, 1: 1.0,}, assign different weights to different class labels since the dataset is highly imbalanced \n",
    "                   )\n",
    "\n",
    "# put/load the weights into the bidirectional NN model\n",
    "bidir.load_weights(checkpoint_filepath)"
   ]
  },
  {
   "cell_type": "code",
   "execution_count": 49,
   "metadata": {
    "colab": {
     "base_uri": "https://localhost:8080/"
    },
    "id": "ZLsJpWoznj_0",
    "outputId": "00c99e08-95a8-450d-87d0-c762a44e5939"
   },
   "outputs": [
    {
     "name": "stdout",
     "output_type": "stream",
     "text": [
      "Bidirectional RNN validation auc:  0.6227336166099988\n",
      "Bidirectional RNN validation f1:   0.6472882071946187\n"
     ]
    }
   ],
   "source": [
    "# evaluate the RNN model on the validation set \n",
    "#bidir.evaluate(x_valid, y_valid)\n",
    "from sklearn.metrics import  f1_score, roc_auc_score\n",
    "from sklearn.metrics import confusion_matrix\n",
    "\n",
    "def predict_class(_dataset):\n",
    "  classes = bidir.predict(_dataset) > 0.5\n",
    "  return np.squeeze(classes * 1) \n",
    "\n",
    "y_predict_valid = predict_class(x_valid)\n",
    "print('Bidirectional RNN validation auc: ', roc_auc_score(y_valid, y_predict_valid))\n",
    "print('Bidirectional RNN validation f1:  ', f1_score(y_valid, y_predict_valid, average='micro'))\n"
   ]
  },
  {
   "cell_type": "code",
   "execution_count": 50,
   "metadata": {
    "colab": {
     "base_uri": "https://localhost:8080/"
    },
    "id": "y67z0ARonj_1",
    "outputId": "ff8d6c02-9dac-40fb-9122-252c8b73ad03"
   },
   "outputs": [
    {
     "name": "stdout",
     "output_type": "stream",
     "text": [
      "Bidirectional RNN testing auc:  0.622945364569703\n",
      "Bidirectional RNN testing f1:   0.6477036395147314\n"
     ]
    }
   ],
   "source": [
    "# evaluate the RNN model on the testing set \n",
    "\n",
    "y_predict_test_rnn = predict_class(x_test)\n",
    "print('Bidirectional RNN testing auc: ', roc_auc_score(y_test, y_predict_test_rnn))\n",
    "print('Bidirectional RNN testing f1:  ', f1_score(y_test, y_predict_test_rnn, average='micro'))\n",
    "\n",
    "# As we can see below, the testing evaluation metric scores generated by the bidirectional RNN are around 60%, \n",
    "# which means that the bidirectional RNN model that only accepts the 'name' attribute for training can yield predictions that have similar accuracies with the ones generated by the SVM model that is trained on all the other non-target attributes such as the project origin country, and the goals of funding amount.\n",
    "# This observation indicates and confirms the previous assumption/reasoning that there should be certain relationships between the names of the projects and the success of the project crowdfunding.\n"
   ]
  },
  {
   "cell_type": "markdown",
   "metadata": {
    "id": "AqS3_96tnj_1"
   },
   "source": [
    "# Ensemble Method: Combine the predictions generated by the models "
   ]
  },
  {
   "cell_type": "code",
   "execution_count": 76,
   "metadata": {
    "colab": {
     "base_uri": "https://localhost:8080/"
    },
    "id": "AUs5oPCQnj_8",
    "outputId": "43b094bd-dbfa-4f42-f334-3f8eb1f1926d"
   },
   "outputs": [
    {
     "name": "stdout",
     "output_type": "stream",
     "text": [
      "Ensemble/Final testing auc:  0.7454896824186618\n",
      "Ensemble/Final testing f1:   0.7132474003466205\n"
     ]
    }
   ],
   "source": [
    "# use the weighted average function as the aggregation method to combine the predictions generated by the models\n",
    "voted  = np.average([y_pred_test_svc ,y_pred_test_xgb, y_pred_test_gbc, y_predict_test_rnn], axis=0, weights=[0.2,0.3,0.3,0.2])\n",
    "# The SVM and RNN models that only produce evaluation metric scores around 60% are assigned with smaller weights than the ones assigned to Gradient Boosting and XGBoosting models that produce evaluation metric scores around 70%\n",
    "# The weights assigned to the 4 models (SVM, Gradient Boosting, XGBoosting, Bidirectional RNN) are 0.2 , 0.3, 0.3, 0.2 respectively, indicating their relevant importance to the final output/prediction of the class labels\n",
    "\n",
    "# argument to auc evaluation metric must be float value\n",
    "print('Ensemble/Final testing auc: ', roc_auc_score(y_test, voted))\n",
    "\n",
    "# argument to f1_score can be integer value \n",
    "voted = np.round(voted)\n",
    "print('Ensemble/Final testing f1:  ', f1_score(y_test, voted, average='micro'))\n",
    "\n",
    "# As we can see from the output below, both of the AUC score and the F1 score have improved slightly due to the implementation of the Ensemble method, showing that the final accuracy of the 'model pipeline' is around 71% \n",
    "\n"
   ]
  },
  {
   "cell_type": "code",
   "execution_count": null,
   "metadata": {
    "id": "hBLmPhOmMYm9"
   },
   "outputs": [],
   "source": []
  },
  {
   "cell_type": "markdown",
   "metadata": {
    "id": "5yx4c5aSnphx"
   },
   "source": [
    "# Trained LGBM model for fun (yielded a similar model performance with XGBoosting model with using much less amount of time)"
   ]
  },
  {
   "cell_type": "code",
   "execution_count": 34,
   "metadata": {
    "colab": {
     "base_uri": "https://localhost:8080/"
    },
    "id": "G8Cwp7Vwmn91",
    "outputId": "a071ea8f-7929-4219-b0dc-3eed114f79e3"
   },
   "outputs": [
    {
     "name": "stdout",
     "output_type": "stream",
     "text": [
      "Fitting 5 folds for each of 10 candidates, totalling 50 fits\n"
     ]
    },
    {
     "name": "stderr",
     "output_type": "stream",
     "text": [
      "[Parallel(n_jobs=-1)]: Using backend LokyBackend with 2 concurrent workers.\n",
      "[Parallel(n_jobs=-1)]: Done  46 tasks      | elapsed:  2.8min\n",
      "[Parallel(n_jobs=-1)]: Done  50 out of  50 | elapsed:  3.1min finished\n"
     ]
    },
    {
     "name": "stdout",
     "output_type": "stream",
     "text": [
      "best score 0.7145159717934553\n"
     ]
    }
   ],
   "source": [
    "#LGBM classifier\n",
    "import lightgbm as lgb\n",
    "from lightgbm import LGBMClassifier\n",
    "regr = Pipeline(steps=[('preprocessor', preprocessor), # the first step is do the pre-processing with using the pre-processor we defined above, and the pre-processor will process different features based on which type group it is in with using the corresponding transformer\n",
    "#                     ('normalizer', Normalizer()), # the second step is to integrate regularization into the model building process to avoid overfitting \n",
    "                       ('classifier', LGBMClassifier( # the third step is choosing the model architecture we will use\n",
    "                         seed=1, ))]) # set the number of classes, num_class=3\n",
    "param_random = { # the range of hyper-parameters we want to search\n",
    "    'preprocessor__num__iterative_imputer__max_iter': range(10,20),# The default value of 'max_iter' is 10, \n",
    "    'classifier__objective': ['binary'], # hinge loss for binary classification makes predictions of 0 or 1, rather than producing probabilities.\n",
    "    'classifier__max_depth': range(6,30), # The default value is 6, so we make it more flexible by extending the max_depth from the default value 6 to 30\n",
    "    'classifier__n_estimators': range(500,600), # The default value is 100, so we make it more flexible by extending the number of estimators from the default value 100 to the range(200,400)\n",
    "#    'classifier__colsample_bynode': np.arange(0.0, 1.1, 0.1), # the ranges of colsample_bynode, colsample_bylevel, and colsample_bytree are all (0,1], so we use np.arange() rather than range()\n",
    "    'classifier__colsample_bytree': np.arange(0.0, 1.1, 0.1), # np.arange(0.0, 1.1, 0.1) gives a array of float values from 0.0 to 1.0 with incrementing each element by 0.1 \n",
    "#    'classifier__colsample_bylevel': np.arange(0.0, 1.1, 0.1), \n",
    "    'classifier__min_child_weight': range(0,10), # the larger the min_child_weight(default value is 1) and max_delta_step(default value is 0) values are, the more conservative the algorithm will be\n",
    "#    'classifier__max_delta_step': range(0,10), # However, tuning the 'max_delta_step' tends to deteriorate the model's performance\n",
    "    'classifier__eta': np.arange(0.01,0.2,0.01), # adjust the learning rate, but the performance of the model is worse when we tuning the learning rate in a range that is above the default value 0.3, such as (0.4,1.0,0.1)\n",
    "#    'classifier__scale_pos_weight': range(1,10), # we adjust the balance of positive and negative weights, the default value is 1, but tuning this parameter is not recommended by the system, and it did not improve the model's performance too\n",
    "    'classifier__gamma': range(0,10), # default value of gamma is 0, and the larger gamma is, the more conservative the algorithm will be\n",
    "#    'classifier__tree_method': ['auto','hist'], # the default value is 'auto', and it turns out that the default value will yield the best performance of the model in most of the situations \n",
    "#    'normalizer__norm': ['max'], # ,'l1','l2'], 'max' turns out to be the best settting for the regularization strategy, however, it later turns out that tuning the model's regularization parameter will be better than tuning this Normalizer in the model's pipeline\n",
    "    'classifier__lambda': range(1,6), # L2 regularization term on weights, the default value is 1, and there is no need to extend further the range(1,6) as the best setting for the 'lambda' is always below 3\n",
    "    'classifier__alpha': range(0,6), # L1 regularization term on weights, the default value is 0, and there is no need to extend further the range(0,6) as the best setting for the 'alpha' is always below 3\n",
    "}\n",
    "\n",
    "random_search_light = RandomizedSearchCV( # pass the model pipeline and the ranges of (hyper-)parameters we want to search as arguments to RandomizedSearchCV()\n",
    "    regr, param_random, cv=5, verbose=1, n_jobs=-1,  # cv=5 means we have 5 folds for the CV, n_jobs = -1 means using all CPU processors\n",
    "    n_iter=10,random_state=1,  # 'n_iter'=35 means that 35 parameter settings are randomly sampled, and so we will have 35 models that will go through the 5-fold cross-validation\n",
    "    scoring='f1_micro') \n",
    "\n",
    "random_search_light.fit(x_train, y_train)\n",
    "print('best score {}'.format(random_search_light.best_score_))\n",
    "\n"
   ]
  },
  {
   "cell_type": "code",
   "execution_count": 35,
   "metadata": {
    "colab": {
     "base_uri": "https://localhost:8080/"
    },
    "id": "mWJGcRVGOZEw",
    "outputId": "bef89b8e-9032-4776-87e3-9c5d51d506a3"
   },
   "outputs": [
    {
     "data": {
      "text/plain": [
       "{'classifier__alpha': 3,\n",
       " 'classifier__colsample_bytree': 0.4,\n",
       " 'classifier__eta': 0.12,\n",
       " 'classifier__gamma': 8,\n",
       " 'classifier__lambda': 2,\n",
       " 'classifier__max_depth': 6,\n",
       " 'classifier__min_child_weight': 3,\n",
       " 'classifier__n_estimators': 543,\n",
       " 'classifier__objective': 'binary',\n",
       " 'preprocessor__num__iterative_imputer__max_iter': 15}"
      ]
     },
     "execution_count": 35,
     "metadata": {
      "tags": []
     },
     "output_type": "execute_result"
    }
   ],
   "source": [
    "# Get feedbacks, see what are the best (hyper-)parameter settings in the search space we specified above\n",
    "random_search_light.best_params_"
   ]
  },
  {
   "cell_type": "code",
   "execution_count": 36,
   "metadata": {
    "colab": {
     "base_uri": "https://localhost:8080/"
    },
    "id": "MPRbGTSqMsbi",
    "outputId": "23e07c3b-dba0-4b04-ff9b-ed079f4e8eb6"
   },
   "outputs": [
    {
     "name": "stdout",
     "output_type": "stream",
     "text": [
      "XGBoosting validation auc:  0.6922851558120717\n",
      "XGBoosting validation f1:   0.7126377018815195\n"
     ]
    }
   ],
   "source": [
    "# Run the model on the validation set to see the performance for tuning\n",
    "from sklearn.metrics import roc_auc_score, f1_score\n",
    "y_pred_valid = random_search_light.best_estimator_.predict(x_valid)\n",
    "\n",
    "\n",
    "print('XGBoosting validation auc: ', roc_auc_score(y_valid, y_pred_valid))\n",
    "print('XGBoosting validation f1:  ', f1_score(y_valid, y_pred_valid, average='micro'))"
   ]
  },
  {
   "cell_type": "code",
   "execution_count": 38,
   "metadata": {
    "colab": {
     "base_uri": "https://localhost:8080/"
    },
    "id": "sRsmplSUNLy0",
    "outputId": "adb9c0be-8583-43ca-f5bd-c6ae42781faf"
   },
   "outputs": [
    {
     "name": "stdout",
     "output_type": "stream",
     "text": [
      " testing auc:  0.6918997549956664\n",
      " testing f1:   0.713117417677643\n"
     ]
    }
   ],
   "source": [
    "y_pred_test_lgbm = random_search_light.best_estimator_.predict(x_test)\n",
    "print(' testing auc: ', roc_auc_score(y_test, y_pred_test_lgbm))\n",
    "print(' testing f1:  ', f1_score(y_test, y_pred_test_lgbm, average='micro'))"
   ]
  },
  {
   "cell_type": "code",
   "execution_count": null,
   "metadata": {
    "id": "MjCpq6CwPzrr"
   },
   "outputs": [],
   "source": []
  }
 ],
 "metadata": {
  "accelerator": "GPU",
  "colab": {
   "collapsed_sections": [],
   "name": "372_project_Kickstarter.ipynb",
   "provenance": []
  },
  "kernelspec": {
   "display_name": "Python 3",
   "language": "python",
   "name": "python3"
  },
  "language_info": {
   "codemirror_mode": {
    "name": "ipython",
    "version": 3
   },
   "file_extension": ".py",
   "mimetype": "text/x-python",
   "name": "python",
   "nbconvert_exporter": "python",
   "pygments_lexer": "ipython3",
   "version": "3.8.5"
  }
 },
 "nbformat": 4,
 "nbformat_minor": 4
}
